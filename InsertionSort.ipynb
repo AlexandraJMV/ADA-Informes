{
  "nbformat": 4,
  "nbformat_minor": 0,
  "metadata": {
    "colab": {
      "name": "InsertionSort",
      "provenance": [],
      "collapsed_sections": [],
      "authorship_tag": "ABX9TyMHJ0nwmd0/mZtWk2djBM5C",
      "include_colab_link": true
    },
    "kernelspec": {
      "name": "python3",
      "display_name": "Python 3"
    },
    "language_info": {
      "name": "python"
    }
  },
  "cells": [
    {
      "cell_type": "markdown",
      "metadata": {
        "id": "view-in-github",
        "colab_type": "text"
      },
      "source": [
        "<a href=\"https://colab.research.google.com/github/AlexandraJMV/ADA-Informes/blob/main/InsertionSort.ipynb\" target=\"_parent\"><img src=\"https://colab.research.google.com/assets/colab-badge.svg\" alt=\"Open In Colab\"/></a>"
      ]
    },
    {
      "cell_type": "markdown",
      "source": [
        "## 1. Descripción del problema\n",
        "\n",
        "### Problema: Ordenamiento de una secuencia de números\n",
        "---\n",
        "Buenas soluciones para problemas de ordenamiento son fundamentales para la optimización de otros procediminetos como, por ejemplo, la búsqueda de elementos, la cual puede ser realizada en un menor tiempo al encontrarse los datos organizados según algun criterio conocido.\n",
        "\n",
        "En general, un problema de ordenamiento para *n elementos numéricos* se puede describir de la siguiente forma:\n",
        "\n",
        ">**Entrada**: Secuencia de n números $[a_1,a_2,...,a_n]$\n",
        "\n",
        ">**Salida**: Permutación ordenada de la secuencia de entrada: $[a_1',a_2',...,a_n']$, de tal manera que $a_1'\\leq a_2' \\leq... \\leq a_n'$.\n",
        "\n",
        "***InsertionSort*** se destaca por ser una solución relativamente simple al problema recién planteado, pero efectiva."
      ],
      "metadata": {
        "id": "kI6x2TvfrtcS"
      }
    },
    {
      "cell_type": "markdown",
      "source": [
        "## 2. Insertion Sort"
      ],
      "metadata": {
        "id": "NB6b-jPA6_V8"
      }
    },
    {
      "cell_type": "markdown",
      "source": [
        "### 2.1 Descripción del algoritmo.\n",
        "El algoritmo recibe como entrada una lista o arreglo $a$ de $n$ elementos a ordenar. \n",
        "El ordenamiento consiste en desplazar los números dentro del arreglo en caso de que fuese necesario para finalmente ubicar el elemento a ordenar en su posición correspondiente.\n",
        "\n",
        "\n",
        "<br>Funciona de la siguiente manera: <br>\n",
        "\n",
        "1. Por cada iteración $i$, el algoritmo recorre el arreglo de derecha a izquierda con $k \\in (i-1,..., 0)$, representando el índice de los valores que serán comparados. Para cada valor de $k$, se busca encontrar algún número menor a nuestra clave, ya que a continuación se ubicaría nuestro elemento $a[i] = key$. <br><br>\n",
        "\n",
        "2. A medida que se recorre el arreglo se van moviendo los valores un paso a la derecha con tal de hacerle espacio a la nueva posicóon para  $key$. <br><br>\n",
        "\n",
        "3. Si $a[k]$ < $key$, se ha encontrado un elemento menor a la clave y el lugar al cual pertenece.  El elemento $key$ se colocara en la posición $a[k+1]$ <br><br>\n",
        "\n",
        "4. En caso de que la clave sea menor al primer elemento, se insertará al inicio a través de una instrucción extra. Esto debido a que no se pueden realizar más comparaciones una vez $k$ llega al valor $0$.\n",
        "\n",
        "<img \n",
        "src=\"https://cdn.programiz.com/cdn/farfuture/l-X2VCkF2rp4i0X8mZX6BGJL_FQW9EL8PkKhBswQfpc/mtime:1582112622/sites/tutorial2program/files/Insertion-sort-0_1.png\"\n",
        "alt=\"alternatetext\" \n",
        "width=\"450\" \n",
        "height=\"400\">"
      ],
      "metadata": {
        "id": "FcH7_-vq03DH"
      }
    },
    {
      "cell_type": "markdown",
      "source": [
        "### 2.2  Ejemplo de funcionamiento del algoritmo\n",
        "\n",
        "A continuación se mostrará paso por paso el funcionamiento del algoritmo *Insertion Sort*. <br><br>\n",
        "\n",
        "---\n",
        "\n",
        "Consideremos el arreglo de entrada:\n",
        "\n",
        "$a=[3, 5, 1, 9]$\n",
        "\n",
        "Asumiendo que el primer elemento $3$ se encuentra ordenado, se *'selecciona'* el siguiente elemento y se comparan los valores de derecha a izquierda hasta encontrar su posición correspondiente. Al ser el valor $5$ mayor a $3$ y de no existir más elementos para comparar, no se realiza ningún movimiento.\n",
        "\n",
        "Hay que destacar que cuando en una comparación el elemento seleccionado se encuentra con otro menor a si mismo, esta corresponde a su posición final puesto a que el sub-arreglo se encuentra siempre ordenado. \n",
        " \n",
        "`Arreglo 'a' luego de la primera pasada : `\n",
        "$a=[3, 5, 1, 9]$\n",
        "\n",
        "Luego, se compara el $1$ con sus predecesores. Se realizan los siguientes *'movimientos'*:\n",
        "\n",
        "$key = 1$ \n",
        "\n",
        "`Primera comparación y movimiento`  \n",
        "$a$ = [3, **5, 1**, 9]   \n",
        "$a$ = [3, **5, 5**, 9]  \n",
        "\n",
        "`Segunda comparación y movimiento`\n",
        "\n",
        "$a$ = [**3, 5**, 5, 9]  \n",
        "$a$ = [**3, 3**, 5, 9] \n",
        "\n",
        "\n",
        "`Inserción en posición correspondiente  `\n",
        "\n",
        "$a$ = [**3**, 3, 5, 9]   \n",
        "$a$ = [**1**, 3, 5, 9] \n",
        "\n",
        "\n",
        "`Arreglo 'a' luego de la segunda pasada :  `\n",
        "\n",
        "$a=[1, 3, 5, 9]$\n",
        "\n",
        "Para finalizar, se compara el último elemento de nuestro areglo *(Sub- arreglo contiene todos los elementos del original)*. Al encontrarse ya en su posición indicada, no se produce un movimiento y el arreglo se encuentra ordenado.\n",
        "\n",
        "`Arreglo 'a' luego de la tercera pasada : `\n",
        "\n",
        "$a=[1, 3, 5, 9]$ <br><br>\n",
        "\n",
        "---\n",
        "\n",
        "<br>En total, para ordenar el arreglo $a=[3, 5, 1, 9]$ se realizaron 4 comparaciones."
      ],
      "metadata": {
        "id": "XN45USj94KzO"
      }
    },
    {
      "cell_type": "markdown",
      "source": [
        "### 2.3 Implementación del algoritmo "
      ],
      "metadata": {
        "id": "bGgRptpL65g9"
      }
    },
    {
      "cell_type": "code",
      "execution_count": null,
      "metadata": {
        "id": "vKU858bfrQMX",
        "colab": {
          "base_uri": "https://localhost:8080/"
        },
        "outputId": "40510d54-35bb-46a6-a91d-4d76e5cab957"
      },
      "outputs": [
        {
          "output_type": "stream",
          "name": "stdout",
          "text": [
            "Arreglo inicial : [1, 65, 0, 878, 3, 1]\n",
            "Arreglo final : [0, 1, 1, 3, 65, 878]\n",
            "Total de comparaciones : 12\n"
          ]
        }
      ],
      "source": [
        "import numpy as np\n",
        "from termcolor import colored\n",
        "\n",
        "def insertion_sort(a, verbose = False):\n",
        "  n = len(a)        # Tamaño del arreglo a ordenar\n",
        "  c = 0             # Número de comparaciones\n",
        "\n",
        "  if verbose == True:\n",
        "    print(\"imput array :\", a, \"\\n\")\n",
        "\n",
        "  for i in range(1, n):\n",
        "    key = a[i]\n",
        "    is_zero = False # Auxiliar para la empresión en caso de que verbose = True\n",
        "\n",
        "    if verbose == True: \n",
        "      print(\"Pasada \", i, \", \",colored(f\"key : {key}\", \"red\", attrs=[\"bold\"]) )\n",
        "    \n",
        "    for k in range(i-1, -1, -1):\n",
        "      c+= 1\n",
        "\n",
        "      if verbose == True: \n",
        "        # Destacar valor con el que se comparara key\n",
        "        if k > 0: print(\" \",end = \"\")\n",
        "        if k == i-1:\n",
        "          print(\"  \", str(a[:k])[1:-1], colored(f\"{str(a[k:k+1])[1:-1]}\", \"blue\", attrs=['bold']),\n",
        "                colored(f\"{str(a[k+1:k+2])[1:-1]}\", \"red\", attrs=['bold']), str(a[k+2:])[1:-1])\n",
        "        else:\n",
        "          print(\"  \", str(a[:k])[1:-1], colored(f\"{str(a[k:k+1])[1:-1]}\",  \"blue\", attrs=['bold']), str(a[k+1:])[1:-1])\n",
        "\n",
        "      # Inserción de clave en la posición correspondiente \n",
        "      if a[k] < key:\n",
        "        a[k+1] = key\n",
        "        break\n",
        "\n",
        "      # Movimiento de elemento k una posición a la izquierda\n",
        "      a[k+1] = a[k]\n",
        "\n",
        "      if verbose == True:\n",
        "        if k > 0: print(\" \",end = \"\")\n",
        "        print(\"  \", str(a[:k])[1:-1], colored(f\"{str(a[k:k+2])[1:-1]}\", \"green\", attrs=['bold']), str(a[k+2:])[1:-1])\n",
        "    \n",
        "    # Insercion de clave en caso especial\n",
        "    if key < a[0]: \n",
        "      a[0] = key\n",
        "      is_zero = True\n",
        "\n",
        "    if verbose == True:\n",
        "\n",
        "      if is_zero:\n",
        "        print(colored(f\"\\n{str(a[0])[1:-1]}\", \"red\", attrs=['bold']), str(a[1:])[1:-1])\n",
        "        print(f\"{key} ha finalizado en la posición {0}\\n\")\n",
        "      else:\n",
        "        print(\"\\n\", str(a[:k+1])[1:-1], colored(f\"{str(a[k+1:k+2])[1:-1]}\",\"red\", attrs=['bold']), str(a[k+2:])[1:-1])\n",
        "        print(f\" {key} ha finalizado en la posición {k+1}\\n\")\n",
        "\n",
        "  \n",
        "  if verbose == True:\n",
        "    print(\"Arreglo ordenado !\")\n",
        "    print(f\"output array:: {a}\")\n",
        "  \n",
        "  return a, c\n",
        "\n",
        "# Ejemplo\n",
        "a = [1, 65, 0, 878, 3, 1]\n",
        "\n",
        "print(f\"Arreglo inicial : {a}\")\n",
        "\n",
        "a,C = insertion_sort(a)\n",
        "\n",
        "print(f\"Arreglo final : {a}\")\n",
        "print(f\"Total de comparaciones : {C}\")"
      ]
    },
    {
      "cell_type": "markdown",
      "source": [
        "### 2.4 Ejecucion paso a paso (`verbose=True`)\n",
        "\n",
        "A continuación se mostrará como se ejecuta el programa en cada iteración. \n",
        "\n",
        "Tener en mente las siguientes consideraciones:\n",
        "1. Los números <font color = blue> **azules** </font> son aquellos con los que se está comparando la clave en la iteración correspondiente.\n",
        "2. Los números <font color = green>**verdes**</font> corresponden al 'movimiento' de valores al no encontrarse la posición final de la clave.\n",
        "3. El número <font color = red>**rojo**</font> corresponde al valor de la variable key."
      ],
      "metadata": {
        "id": "gXDxj1-A7TIj"
      }
    },
    {
      "cell_type": "code",
      "source": [
        "# Arreglo aleatorio\n",
        "a = np.random.randint(40, size=7) \n",
        "a, C = insertion_sort(a, verbose=True)"
      ],
      "metadata": {
        "colab": {
          "base_uri": "https://localhost:8080/"
        },
        "id": "9ZNI0Xxapbkq",
        "outputId": "cd02bf3a-a692-408a-ab78-fb98f375f49a"
      },
      "execution_count": null,
      "outputs": [
        {
          "output_type": "stream",
          "name": "stdout",
          "text": [
            "imput array : [18  4 15 14 36 37 36] \n",
            "\n",
            "Pasada  1 ,  \u001b[1m\u001b[31mkey : 4\u001b[0m\n",
            "    \u001b[1m\u001b[34m18\u001b[0m \u001b[1m\u001b[31m4\u001b[0m 15 14 36 37 36\n",
            "    \u001b[1m\u001b[32m18 18\u001b[0m 15 14 36 37 36\n",
            "\u001b[1m\u001b[31m\n",
            "\u001b[0m 18 15 14 36 37 36\n",
            "4 ha finalizado en la posición 0\n",
            "\n",
            "Pasada  2 ,  \u001b[1m\u001b[31mkey : 15\u001b[0m\n",
            "    4 \u001b[1m\u001b[34m18\u001b[0m \u001b[1m\u001b[31m15\u001b[0m 14 36 37 36\n",
            "    4 \u001b[1m\u001b[32m18 18\u001b[0m 14 36 37 36\n",
            "    \u001b[1m\u001b[34m4\u001b[0m 18 18 14 36 37 36\n",
            "\n",
            " 4 \u001b[1m\u001b[31m15\u001b[0m 18 14 36 37 36\n",
            " 15 ha finalizado en la posición 1\n",
            "\n",
            "Pasada  3 ,  \u001b[1m\u001b[31mkey : 14\u001b[0m\n",
            "     4 15 \u001b[1m\u001b[34m18\u001b[0m \u001b[1m\u001b[31m14\u001b[0m 36 37 36\n",
            "     4 15 \u001b[1m\u001b[32m18 18\u001b[0m 36 37 36\n",
            "    4 \u001b[1m\u001b[34m15\u001b[0m 18 18 36 37 36\n",
            "    4 \u001b[1m\u001b[32m15 15\u001b[0m 18 36 37 36\n",
            "    \u001b[1m\u001b[34m4\u001b[0m 15 15 18 36 37 36\n",
            "\n",
            " 4 \u001b[1m\u001b[31m14\u001b[0m 15 18 36 37 36\n",
            " 14 ha finalizado en la posición 1\n",
            "\n",
            "Pasada  4 ,  \u001b[1m\u001b[31mkey : 36\u001b[0m\n",
            "     4 14 15 \u001b[1m\u001b[34m18\u001b[0m \u001b[1m\u001b[31m36\u001b[0m 37 36\n",
            "\n",
            "  4 14 15 18 \u001b[1m\u001b[31m36\u001b[0m 37 36\n",
            " 36 ha finalizado en la posición 4\n",
            "\n",
            "Pasada  5 ,  \u001b[1m\u001b[31mkey : 37\u001b[0m\n",
            "     4 14 15 18 \u001b[1m\u001b[34m36\u001b[0m \u001b[1m\u001b[31m37\u001b[0m 36\n",
            "\n",
            "  4 14 15 18 36 \u001b[1m\u001b[31m37\u001b[0m 36\n",
            " 37 ha finalizado en la posición 5\n",
            "\n",
            "Pasada  6 ,  \u001b[1m\u001b[31mkey : 36\u001b[0m\n",
            "     4 14 15 18 36 \u001b[1m\u001b[34m37\u001b[0m \u001b[1m\u001b[31m36\u001b[0m \n",
            "     4 14 15 18 36 \u001b[1m\u001b[32m37 37\u001b[0m \n",
            "     4 14 15 18 \u001b[1m\u001b[34m36\u001b[0m 37 37\n",
            "     4 14 15 18 \u001b[1m\u001b[32m36 36\u001b[0m 37\n",
            "     4 14 15 \u001b[1m\u001b[34m18\u001b[0m 36 36 37\n",
            "\n",
            "  4 14 15 18 \u001b[1m\u001b[31m36\u001b[0m 36 37\n",
            " 36 ha finalizado en la posición 4\n",
            "\n",
            "Arreglo ordenado !\n",
            "output array:: [ 4 14 15 18 36 36 37]\n"
          ]
        }
      ]
    },
    {
      "cell_type": "markdown",
      "source": [
        "## 3. Propiedades del algoritmo `Insertion Sort`"
      ],
      "metadata": {
        "id": "57MTD_ZW7VIy"
      }
    },
    {
      "cell_type": "markdown",
      "source": [
        "## 3.1 Tiempo de ejecución\n",
        "### ***Teorema (Tiempo de ejecución)***\n",
        "El algoritmo ***InsertionSort*** tiene un *tiempo de ejecución de $O(n^2)$* en el peor caso.\n",
        "\n",
        "### *Prueba del teorema*\n",
        "Considerando el funcionamiento del algoritmo, se puede observar que el peor caso ocurre cuando los elementos del arreglo se encuentran ordenados de forma que  $a_1\\geq a_2 \\geq a_3\\geq... \\geq a_n$. \n",
        "\n",
        "Esto debido a que cada clave debería desplazarse la cantidad máxima de posiciones para llegar donde corresponde *(El inicio del arreglo)*"
      ],
      "metadata": {
        "id": "j1jRrueyXMqw"
      }
    },
    {
      "cell_type": "code",
      "source": [
        "a = [7,6,5,4,3,2,1]\n",
        "\n",
        "a, comp = insertion_sort(a, True)\n",
        "\n",
        "print(f\"Comparaciones realizadas: {comp}\")"
      ],
      "metadata": {
        "colab": {
          "base_uri": "https://localhost:8080/"
        },
        "id": "gwSfmqF_c7O0",
        "outputId": "de55ddeb-255b-4b8a-d5d5-2ba292da43db"
      },
      "execution_count": null,
      "outputs": [
        {
          "output_type": "stream",
          "name": "stdout",
          "text": [
            "imput array : [7, 6, 5, 4, 3, 2, 1] \n",
            "\n",
            "Pasada  1 ,  \u001b[1m\u001b[31mkey : 6\u001b[0m\n",
            "    \u001b[1m\u001b[34m7\u001b[0m \u001b[1m\u001b[31m6\u001b[0m 5, 4, 3, 2, 1\n",
            "    \u001b[1m\u001b[32m7, 7\u001b[0m 5, 4, 3, 2, 1\n",
            "\u001b[1m\u001b[31m\n",
            "\u001b[0m 7, 5, 4, 3, 2, 1\n",
            "6 ha finalizado en la posición 0\n",
            "\n",
            "Pasada  2 ,  \u001b[1m\u001b[31mkey : 5\u001b[0m\n",
            "    6 \u001b[1m\u001b[34m7\u001b[0m \u001b[1m\u001b[31m5\u001b[0m 4, 3, 2, 1\n",
            "    6 \u001b[1m\u001b[32m7, 7\u001b[0m 4, 3, 2, 1\n",
            "    \u001b[1m\u001b[34m6\u001b[0m 7, 7, 4, 3, 2, 1\n",
            "    \u001b[1m\u001b[32m6, 6\u001b[0m 7, 4, 3, 2, 1\n",
            "\u001b[1m\u001b[31m\n",
            "\u001b[0m 6, 7, 4, 3, 2, 1\n",
            "5 ha finalizado en la posición 0\n",
            "\n",
            "Pasada  3 ,  \u001b[1m\u001b[31mkey : 4\u001b[0m\n",
            "    5, 6 \u001b[1m\u001b[34m7\u001b[0m \u001b[1m\u001b[31m4\u001b[0m 3, 2, 1\n",
            "    5, 6 \u001b[1m\u001b[32m7, 7\u001b[0m 3, 2, 1\n",
            "    5 \u001b[1m\u001b[34m6\u001b[0m 7, 7, 3, 2, 1\n",
            "    5 \u001b[1m\u001b[32m6, 6\u001b[0m 7, 3, 2, 1\n",
            "    \u001b[1m\u001b[34m5\u001b[0m 6, 6, 7, 3, 2, 1\n",
            "    \u001b[1m\u001b[32m5, 5\u001b[0m 6, 7, 3, 2, 1\n",
            "\u001b[1m\u001b[31m\n",
            "\u001b[0m 5, 6, 7, 3, 2, 1\n",
            "4 ha finalizado en la posición 0\n",
            "\n",
            "Pasada  4 ,  \u001b[1m\u001b[31mkey : 3\u001b[0m\n",
            "    4, 5, 6 \u001b[1m\u001b[34m7\u001b[0m \u001b[1m\u001b[31m3\u001b[0m 2, 1\n",
            "    4, 5, 6 \u001b[1m\u001b[32m7, 7\u001b[0m 2, 1\n",
            "    4, 5 \u001b[1m\u001b[34m6\u001b[0m 7, 7, 2, 1\n",
            "    4, 5 \u001b[1m\u001b[32m6, 6\u001b[0m 7, 2, 1\n",
            "    4 \u001b[1m\u001b[34m5\u001b[0m 6, 6, 7, 2, 1\n",
            "    4 \u001b[1m\u001b[32m5, 5\u001b[0m 6, 7, 2, 1\n",
            "    \u001b[1m\u001b[34m4\u001b[0m 5, 5, 6, 7, 2, 1\n",
            "    \u001b[1m\u001b[32m4, 4\u001b[0m 5, 6, 7, 2, 1\n",
            "\u001b[1m\u001b[31m\n",
            "\u001b[0m 4, 5, 6, 7, 2, 1\n",
            "3 ha finalizado en la posición 0\n",
            "\n",
            "Pasada  5 ,  \u001b[1m\u001b[31mkey : 2\u001b[0m\n",
            "    3, 4, 5, 6 \u001b[1m\u001b[34m7\u001b[0m \u001b[1m\u001b[31m2\u001b[0m 1\n",
            "    3, 4, 5, 6 \u001b[1m\u001b[32m7, 7\u001b[0m 1\n",
            "    3, 4, 5 \u001b[1m\u001b[34m6\u001b[0m 7, 7, 1\n",
            "    3, 4, 5 \u001b[1m\u001b[32m6, 6\u001b[0m 7, 1\n",
            "    3, 4 \u001b[1m\u001b[34m5\u001b[0m 6, 6, 7, 1\n",
            "    3, 4 \u001b[1m\u001b[32m5, 5\u001b[0m 6, 7, 1\n",
            "    3 \u001b[1m\u001b[34m4\u001b[0m 5, 5, 6, 7, 1\n",
            "    3 \u001b[1m\u001b[32m4, 4\u001b[0m 5, 6, 7, 1\n",
            "    \u001b[1m\u001b[34m3\u001b[0m 4, 4, 5, 6, 7, 1\n",
            "    \u001b[1m\u001b[32m3, 3\u001b[0m 4, 5, 6, 7, 1\n",
            "\u001b[1m\u001b[31m\n",
            "\u001b[0m 3, 4, 5, 6, 7, 1\n",
            "2 ha finalizado en la posición 0\n",
            "\n",
            "Pasada  6 ,  \u001b[1m\u001b[31mkey : 1\u001b[0m\n",
            "    2, 3, 4, 5, 6 \u001b[1m\u001b[34m7\u001b[0m \u001b[1m\u001b[31m1\u001b[0m \n",
            "    2, 3, 4, 5, 6 \u001b[1m\u001b[32m7, 7\u001b[0m \n",
            "    2, 3, 4, 5 \u001b[1m\u001b[34m6\u001b[0m 7, 7\n",
            "    2, 3, 4, 5 \u001b[1m\u001b[32m6, 6\u001b[0m 7\n",
            "    2, 3, 4 \u001b[1m\u001b[34m5\u001b[0m 6, 6, 7\n",
            "    2, 3, 4 \u001b[1m\u001b[32m5, 5\u001b[0m 6, 7\n",
            "    2, 3 \u001b[1m\u001b[34m4\u001b[0m 5, 5, 6, 7\n",
            "    2, 3 \u001b[1m\u001b[32m4, 4\u001b[0m 5, 6, 7\n",
            "    2 \u001b[1m\u001b[34m3\u001b[0m 4, 4, 5, 6, 7\n",
            "    2 \u001b[1m\u001b[32m3, 3\u001b[0m 4, 5, 6, 7\n",
            "    \u001b[1m\u001b[34m2\u001b[0m 3, 3, 4, 5, 6, 7\n",
            "    \u001b[1m\u001b[32m2, 2\u001b[0m 3, 4, 5, 6, 7\n",
            "\u001b[1m\u001b[31m\n",
            "\u001b[0m 2, 3, 4, 5, 6, 7\n",
            "1 ha finalizado en la posición 0\n",
            "\n",
            "Arreglo ordenado !\n",
            "output array:: [1, 2, 3, 4, 5, 6, 7]\n",
            "Comparaciones realizadas: 21\n"
          ]
        }
      ]
    },
    {
      "cell_type": "markdown",
      "source": [
        "Para la clave en la $i$-ésima posición, el algoritmo deberá realizar un total de $i$ comparaciones. Considerando que el primer elemento del arreglo se encuentra trivialmente ordenado, esto significa que el algoritmo realizará $n-1$ iteraciones de $i$.\n",
        "\n",
        "\n",
        "Ya que $i \\in {1,...,n-1}$, se concluye que se realizarán $\\sum\\limits_{i=1}^{n-1} i=\\frac{n(n-1)}{2}$ \n",
        "comparaciones en el ***peor caso***, correspondiente a un tiempo de ejecución de orden $O(n^2)$.<br><br>\n",
        "\n",
        "Respecto al mejor caso, cuando el arreglo $a = [a_0, a_1,...,a_n]$ se encuentre ordenado de mayor a menor, el algoritmo debe realizar $n-1$ comparaciones puesto a que por cada iteración de $i$ se encontrará en la primera comparación la posición adecuada. El **mejor caso** corresponde a $O(n)$"
      ],
      "metadata": {
        "id": "T-z2q614trua"
      }
    },
    {
      "cell_type": "code",
      "source": [
        "# Ejemplo \n",
        "a = [1,2,3,4,5,6,7,8,9,10]\n",
        "a,c = insertion_sort(a) ; c"
      ],
      "metadata": {
        "colab": {
          "base_uri": "https://localhost:8080/"
        },
        "id": "PEXmQ4NlFPX_",
        "outputId": "a67cd543-9678-41e8-efcf-fcb886ee06a8"
      },
      "execution_count": null,
      "outputs": [
        {
          "output_type": "execute_result",
          "data": {
            "text/plain": [
              "9"
            ]
          },
          "metadata": {},
          "execution_count": 9
        }
      ]
    },
    {
      "cell_type": "markdown",
      "source": [
        "## 3.2 Correctitud del algoritmo\n",
        "### ***Teorema***\n",
        "El algoritmo ***InsertionSort*** genera un arreglo con los mismos $n$ elementos del arreglo original $a$, pero ordenados de menor a mayor de tal forma que  $[a_1\\leq a_2\\leq a_3\\leq... \\leq a_n]$.\n",
        "\n",
        "### ***Prueba de teorema***\n",
        "Se utilizará la siguiente **propiedad invariante de bucle** para ***InsertionSort***:\n",
        "> Al comienzo de cada bucle $i$, el sub-arreglo conformado por $[a_0, a_1,..., a_k]$ donde $k \\in {0... i-1}$ se encuentra ***siempre ordenado*** de menor a mayor.\n",
        "\n",
        "##### ***Inicialización***\n",
        "Al iniciar la primera iteración $i$ corresponde a $1$, por lo que el único valor posible de $k$ es $0$.\n",
        "El sub-arreglo $a'= [a_k]$ poseerá un solo elemento, por lo que se encuentra trivialmente ordenado.\n",
        "\n",
        "##### ***Mantención***\n",
        "Asumiendo que el sub-arreglo generado por $k \\in 0... i-1$ en $a$ cumple con la propiedad anteriormente mencionada, basta con ver qué sucede con el arreglo al posicionar un nuevo elemento donde corresponda.\n",
        "\n",
        "Sea $key = a[i]$  el nuevo elemento a insertar de forma ordenada dentro del sub-arreglo $[a_0...a_k]$ con $k \\in [0.. i-1]$. \n",
        "\n",
        "Con cada comparación que no resulte en encontrar la posición de la clave, se irán desplazandolos valores un espacio a la izquierda. Una vez insertado el nuevo elemento, este se encontrará de forma odenada dentro del sub-arreglo, manteniendo la propiedad inicial.\n",
        "\n",
        "### ***Correctitud***\n",
        "\n",
        "Como la propiedad se mantiene al inicio y final de la $i$-ésima iteración, se puede concluir que cuando se termine de realizar la $n-1$-ésima iteración, el sub arreglo contendrá la totalidad de los elementos ordenados en el arreglo inicial $a$, por lo que corresponde a una solución para el problema de ordenamiento.\n"
      ],
      "metadata": {
        "id": "KyR0WIK97ysi"
      }
    },
    {
      "cell_type": "markdown",
      "source": [
        "## 4. Experimentación\n"
      ],
      "metadata": {
        "id": "Jo8bkjM77rjE"
      }
    },
    {
      "cell_type": "markdown",
      "source": [
        "### 4.1 Número de comparaciones\n"
      ],
      "metadata": {
        "id": "5Pxe8Wt7EOaL"
      }
    },
    {
      "cell_type": "code",
      "source": [
        "# Copia código de Bubble sort desde ejemplo de informe\n",
        "import random\n",
        "from termcolor import colored\n",
        "import copy\n",
        "\n",
        "def bubble_sort(a, verbose=False):\n",
        "    n = len(a)\n",
        "    T = 0 #contador de comparaciones\n",
        "\n",
        "    if verbose == True: print(\"input array:\",a)\n",
        "\n",
        "    for i in range(1,n+1):\n",
        "        if verbose == True: print(\"\\nPasada\",i)\n",
        "        # Flag que indica si el arreglo ya se encuentra ordenado\n",
        "        already_sorted = True\n",
        "\n",
        "        # Se recorre el arreglo\n",
        "        for j in range(n - i):\n",
        "            T +=1\n",
        "            if a[j] > a[j + 1]:\n",
        "                # Si el elemento es mayor al siguiente se intercambia\n",
        "                a[j], a[j + 1] = a[j + 1], a[j]\n",
        "                if verbose == True: \n",
        "                  print(str(a[:j])[1:-1],\",\",colored(f\"{str(a[j:j+2])[1:-1]}\",\"red\"),\",\",str(a[j+2:])[1:-1])\n",
        "\n",
        "                already_sorted = False\n",
        "\n",
        "        if already_sorted == False and verbose == True: \n",
        "           print(\"\\nAl finalizar pasada:\")\n",
        "           print(str(a[:n-i])[1:-1],\",\",colored(f\"{str(a[n-i:])[1:-1]}\",\"blue\"))\n",
        "\n",
        "        if already_sorted:\n",
        "            if verbose == True: print(\"is sorted!\")\n",
        "            break\n",
        "\n",
        "    if verbose == True: print(\"\\noutput array:\",a)\n",
        "\n",
        "    return a, T"
      ],
      "metadata": {
        "id": "B-wxtEaH1y-o"
      },
      "execution_count": null,
      "outputs": []
    },
    {
      "cell_type": "code",
      "source": [
        "import matplotlib.pyplot as plt\n",
        "import random\n",
        "\n",
        "fig, ax = plt.subplots(1,2, figsize=(15,5))\n",
        "\n",
        "x=[n for n in range(5,20)] \n",
        "y1=[n*(n-1)/2 for n in range(5,20)] # worst case\n",
        "y2=[n-1 for n in range(5,20)] # best case\n",
        "y=[]; \n",
        "\n",
        "for n in range(5,20):\n",
        "  a = random.sample(range(1, 100), n)\n",
        "  a,counter = insertion_sort(a)\n",
        "  y.append(counter)\n",
        "\n",
        "ax[0].plot(x,y)\n",
        "ax[0].plot(x,y1)\n",
        "ax[0].plot(x,y2)\n",
        "ax[0].legend([\"Insertion Sort\", \"theoretical worst case\", \"theoretical best case\"])\n",
        "\n",
        "ax[0].set_xlabel('n')\n",
        "ax[0].set_ylabel('number of operations')\n",
        "ax[0].set_title('number of operations by Insertion Sort')\n",
        "\n",
        "# Bubble Sort\n",
        "y = []\n",
        "for n in range(5,20):\n",
        "  a = random.sample(range(1, 100), n)\n",
        "  a,counter = bubble_sort(a)\n",
        "  y.append(counter)\n",
        "\n",
        "ax[1].plot(x,y)\n",
        "ax[1].plot(x,y1)\n",
        "ax[1].plot(x,y2)\n",
        "ax[1].legend([\"Bubble Sort\", \"theoretical worst case\", \"theoretical best case\"])\n",
        "\n",
        "ax[1].set_xlabel('n')\n",
        "ax[1].set_ylabel('number of operations')\n",
        "ax[1].set_title('number of operations by Bubble Sort')\n",
        "plt.show()"
      ],
      "metadata": {
        "colab": {
          "base_uri": "https://localhost:8080/",
          "height": 296
        },
        "id": "dmgEzAZ5vqo1",
        "outputId": "8b168cbe-0ef0-4cde-e37c-99340c2a70c5"
      },
      "execution_count": null,
      "outputs": [
        {
          "output_type": "display_data",
          "data": {
            "text/plain": [
              "<Figure size 1080x360 with 2 Axes>"
            ],
            "image/png": "[encoded data removed]"
          },
          "metadata": {
            "needs_background": "light"
          }
        }
      ]
    },
    {
      "cell_type": "markdown",
      "source": [
        "### Análisis de resultados\n",
        "El gréfico demuestra que, en caso del algoritmo `Insertion Sort`, el número de comparaciones empírico se encuentra siempre por debajo del peor caso teórico. \n",
        "\n",
        "Se destaca el aparente balance que sostiene la cantidad de comparaciones expermientales entre el peor y el mejor caso teórico.\n",
        "\n",
        "Respecto al mejor caso teórico, se demuestra que a mayor cantidad de datos comparados, más alejada está la cantidad de comparaciones del mejor caso $n-1$"
      ],
      "metadata": {
        "id": "K0JWHRcmxhFj"
      }
    },
    {
      "cell_type": "markdown",
      "source": [
        "### Tiempo de ejecución\n",
        "A continuación se mostrará el tiempo de ejecución de dos algoritmos,  `Bubble Sort` e `Insertion Sort`, con tal de comparar su funcionamiento.\n"
      ],
      "metadata": {
        "id": "C1D7suP43QmB"
      }
    },
    {
      "cell_type": "code",
      "source": [
        "import matplotlib.pyplot as plt\n",
        "import datetime\n",
        "from timeit import repeat\n",
        "\n",
        "x=[]\n",
        "y=[]\n",
        "\n",
        "for n in range(5,500):\n",
        "\n",
        "  a = random.sample(range(1, 1000), n)\n",
        "  t = repeat(setup=\"from __main__ import bubble_sort\", stmt=f\"bubble_sort({a})\", repeat=1, number=10)\n",
        "\n",
        "  x.append(n)\n",
        "  y.append(t)\n",
        "\n",
        "\n",
        "plt.plot(x,y)\n",
        "plt.xlabel('n')\n",
        "plt.ylabel('time in ms')\n",
        "\n",
        "x_2=[]\n",
        "y_2=[]\n",
        "\n",
        "for n in range(5,500):\n",
        "\n",
        "  a = random.sample(range(1, 1000), n)\n",
        "  t = repeat(setup=\"from __main__ import insertion_sort\", stmt=f\"insertion_sort({a})\", repeat=1, number=10)\n",
        "\n",
        "  x_2.append(n)\n",
        "  y_2.append(t)\n",
        "\n",
        "\n",
        "plt.plot(x_2,y_2)\n",
        "plt.legend([\"Bubble_sort\",\"Insertion_sort\"])\n",
        "\n",
        "plt.xlabel('n')\n",
        "plt.ylabel('time in ms')\n",
        "plt.show()\n",
        "plt.show()"
      ],
      "metadata": {
        "colab": {
          "base_uri": "https://localhost:8080/",
          "height": 279
        },
        "id": "E_jNTVEN3Z5k",
        "outputId": "d9c16dd2-9fcb-4438-c388-244553436554"
      },
      "execution_count": null,
      "outputs": [
        {
          "output_type": "display_data",
          "data": {
            "text/plain": [
              "<Figure size 432x288 with 1 Axes>"
            ],
            "image/png": "[encoded data removed]"
          },
          "metadata": {
            "needs_background": "light"
          }
        }
      ]
    },
    {
      "cell_type": "markdown",
      "source": [
        "### Análisis del resultado\n",
        "Se aprecia en el gráfico como el algoritmo `Insertion Sort` posee un menor tiempo de ejecución que `Bubble Sort`. A pesar de tener ambos un comportamiento cuadrático, el tiempo de ejecución en función del tamaño del problema crece a una mayor rapidez para `Bubble Sort`.\n",
        "\n",
        "Esta diferencia es lo suficientemente significativa como para descartar cualquier comportamiento impredecible.\n",
        "\n"
      ],
      "metadata": {
        "id": "MRTpnuC5Kncg"
      }
    }
  ]
}