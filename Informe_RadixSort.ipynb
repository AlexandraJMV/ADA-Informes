{
  "nbformat": 4,
  "nbformat_minor": 0,
  "metadata": {
    "colab": {
      "provenance": [],
      "collapsed_sections": [],
      "authorship_tag": "ABX9TyPSjLP9cJmesgDFZvcnVMwg",
      "include_colab_link": true
    },
    "kernelspec": {
      "name": "python3",
      "display_name": "Python 3"
    },
    "language_info": {
      "name": "python"
    }
  },
  "cells": [
    {
      "cell_type": "markdown",
      "metadata": {
        "id": "view-in-github",
        "colab_type": "text"
      },
      "source": [
        "<a href=\"https://colab.research.google.com/github/AlexandraJMV/ADA-Informes/blob/main/Informe_RadixSort.ipynb\" target=\"_parent\"><img src=\"https://colab.research.google.com/assets/colab-badge.svg\" alt=\"Open In Colab\"/></a>"
      ]
    },
    {
      "cell_type": "markdown",
      "source": [
        "# ***RadixSort***\n",
        "\n",
        "## **Problema: Ordenamiento de una secuencia de números**\n",
        "---\n",
        "\n",
        "En general, un problema de ordenamiento para *n elementos numéricos* se puede describir de la siguiente forma:\n",
        "\n",
        ">**Entrada**: Secuencia de n números $[a_1,a_2,...,a_n]$\n",
        ">\n",
        ">**Salida**: Permutación ordenada de la secuencia de entrada: $[a_1',a_2',...,a_n']$, de tal manera que $a_1'\\leq a_2' \\leq... \\leq a_n'$.\n",
        "\n",
        "Buenas soluciones para problemas de ordenamiento son fundamentales para la optimización de otros procediminetos como por ejemplo la búsqueda binaria, algoritmo que depende de un arreglo ordenado de valores para poder implementarse.\n",
        "\n"
      ],
      "metadata": {
        "id": "DM9G0rJrv_fE"
      }
    },
    {
      "cell_type": "markdown",
      "source": [
        "## Descripción del algoritmo\n",
        "Todos los algoritmos vistos anteriormente han basado su ordenamiento en comparaciones de valores. Esto implica que el mejor caso posible para cada uno *(QuickSort, MergeSort, etc..)* siempre será de orden $O(n\\cdot logn)$, dado a que se ha calculado que este es el mínimo de comparaciones a hacer para cubrir todos los elementos.\n",
        "\n",
        "Sin embargo, existen otros algoritmos capaces de ordenar en un tiempo lineal $O(n)$ o bien muy próximos a ser lineales.\n",
        "\n",
        "***RadixSort*** es uno de estos algoritmos\n",
        "\n",
        "El ordenamiento realizado por *RadixSort* es similar a ordenar por cierta cantidad de categorias una a la vez. La idea de este algoritmo es ir ordenando los valores de de una lista de números dígito a dígito, llendo de dígitos de menor importancia a mayor. \n",
        "\n",
        "<img src=\"https://ds055uzetaobb.cloudfront.net/brioche/uploads/IEZs8xJML3-radixsort_ed.png?width=1200\" alt=\"counting sort example\">\n",
        "\n",
        "Al comparar los dos valores $156$ y $321$ es claro que el valor que representa un mayor diferencia a la hora de ordenar los elementos son $1$ y $3$.\n",
        "\n",
        "También se pueden realizar ordenamientos con *RadixSort* a partir del elemento de mayor importancia, siempre y cuando el sub-proceso que ordene por dígito sea estable.\n",
        "\n",
        "El funcionamiento es el siguiente:\n",
        "1. Se obtiene el mayor valor del arreglo a ordenar $A$, con tal de tener un límite de cuantas iteraciones se realizarán más adelante.\n",
        "\n",
        "2. Se itera desde $10^d$ donde $d$ inicia en $0$ y termina cuando, al dividir el máximo valor por este número, se obtiene un $0$\n",
        "\n",
        "3. Por cada iteración realizada se aplica el algoritmo *CountingSort*. A diferencia del *CountingSort* habitual, este es capaz de realizar el ordenamiento según los dígitos en alguna posición específica.\n",
        "\n",
        "El pseudo-código es bastante simple:\n",
        "\n",
        "```\n",
        "RadixSort(A)\n",
        "    Para d=1 a k, siendo k el máximo de dígitos:\n",
        "        Ordenar A según el digito en posición d\n",
        "\n",
        "```\n",
        "\n",
        "Es **fundamental** que el sub-proceso que ordena el arreglo según el $d-ésimo$ elemento sea estable, es decir, que respete el orden de los elementos de entrada pues queremos que el arreglo termine siendo ordenado considerando todos sus dígitos, no solo uno. \n",
        "\n",
        "<img src='https://ds2-iiith.vlabs.ac.in/exp/radix-sort/analysis/images/stable.png' alt='stable vs unstable'>\n",
        "\n",
        "Por ejemplo:\n",
        "\n",
        "El arreglo $A=[123,139,211,300]$ se encuentra ordenado según el primer dígito (izquierda a derecha). Sin embargo, en las primeras dos posiciones, los elementos no se encuentran ordenados puesto a que $123 < 139$\n",
        "\n",
        "Fuese el sub-proceso no estable es posible que uno se encuentre en alguna situación de este estilo, pues el ordenamiento por dígito considera, obviamente, solamente el dígito.\n"
      ],
      "metadata": {
        "id": "_he2MgR2wI5g"
      }
    },
    {
      "cell_type": "markdown",
      "source": [
        "## CountingSort\n",
        "CouningSort es un algoritmo de ordenamiento que asume que todos los elementos a ordenar se encuentran en un rango de $[0...k]$, siendo $k$ el mayor valor del arreglo a ordenar.\n",
        "\n",
        "Al algoritmo funciona de la siguiente forma:\n",
        "1. Se crea un arreglo $C$ con $[0..k]$ elementos, cada posición corresponderá a la cantidad de elementos menores o iguales a $k$.\n",
        "\n",
        "2. Se recorre el arreglo a ordenar $A$ desde el final, colocando cada elemento leído en la posición que le corresponde en $B$ a través del arreglo $C$.\n",
        "\n",
        "3. Por cada elemento insertado, se le debe restar uno al contador en $C$, para no insertar elementos iguales en una misma posición.\n",
        "\n",
        "Miremos el ejemplo:\n",
        "\n",
        "<img src=\"https://cdn.programiz.com/cdn/farfuture/tcfjQdeYwL_jETOCPZxNjIXbysRrb7MaG6PwO2MzHnM/mtime:1582112622/sites/tutorial2program/files/Counting-sort-4_1.png\" alt='Funcionamiento counting sort'>\n",
        "\n",
        "###### fuente:https://www.programiz.com/dsa/counting-sort\n",
        "\n",
        "1. Se 'lee' el término $4$ y se busca en el arreglo $C$.\n",
        "2. Se observa como existen 6 elementos iguales o menores a $4$. Se inserta el elemento en la posición $6-1$\n"
      ],
      "metadata": {
        "id": "ApfcWMcEynMZ"
      }
    },
    {
      "cell_type": "markdown",
      "source": [
        "### Código de CountingSort\n",
        "\n",
        "La función recibe dos parámetros.\n",
        "1. $A[0..n]$, siendo el arreglo a ordenar.\n",
        "3. $k$ como el valor del mayor elemento.\n",
        "\n",
        "Además se agrega el parámetro `Verbose` quien puede tomar los valores `True` o `False`, con tal de visualizar el funcionamiento de la función.\n",
        "\n",
        "Al finalizar ejecución, ***CountingSort*** retorna un arreglo $B$, con los elementos ordenados.\n"
      ],
      "metadata": {
        "id": "A59pUEofyrph"
      }
    },
    {
      "cell_type": "code",
      "source": [
        "def counting_sort(A,k, verbose=False):\n",
        "    len_a = len(A)\n",
        "    C=[0] * (k+1)  # Creación array C\n",
        "    B = [0] * len_a # Creacion arreglo de salida\n",
        "    \n",
        "    if verbose==True:\n",
        "        print(f\"Input = {A}\")\n",
        "        print(f\"Empthy C: {C}\\n\")\n",
        "    \n",
        "    for j in range(0,len_a):  # Conteo de repeticiones\n",
        "        C[A[j]] = C[A[j]] + 1\n",
        "    if verbose==True:\n",
        "        print(f\"Conteo en C: {C}\")\n",
        "\n",
        "    for m in range(1,k+1): # Acumulación de repeticiones\n",
        "        C[m] = C[m]+C[m-1]\n",
        "\n",
        "    if verbose==True:\n",
        "        print(f\"C acumulado : {C}\\n\")\n",
        "\n",
        "    for n in range(len_a-1,-1,-1):  # Inserción de elementos en B\n",
        "\n",
        "        if verbose==True:\n",
        "            print(f\"Insercion {len_a - n}\\n\")\n",
        "            print(f\"A: {A}\")\n",
        "            print(f\"C : {C}\\n\")\n",
        "            print(f\"Se inserta el valor {A[n]} en la posicion {C[A[n]]}!\")\n",
        "\n",
        "        B[C[A[n]]-1] = A[n]\n",
        "        C[A[n]] = C[A[n]]- 1\n",
        "\n",
        "        if verbose==True: print(f\"Arreglo de salida = {B}\\n\")\n",
        "\n",
        "    if verbose==True: print(f\"Arreglo Ordenado!\\nB = {B}\")\n",
        "    return B"
      ],
      "metadata": {
        "id": "fWh9b8IY4GDw"
      },
      "execution_count": 24,
      "outputs": []
    },
    {
      "cell_type": "code",
      "source": [
        "# Ejemplo\n",
        "def max(A):\n",
        "    max = -1\n",
        "    for i in A:\n",
        "        if i>max:\n",
        "            max=i\n",
        "    return max\n",
        "\n",
        "from random import choices\n",
        "A = choices(range(0,10), k = 4)\n",
        "A"
      ],
      "metadata": {
        "colab": {
          "base_uri": "https://localhost:8080/"
        },
        "id": "vyFSDJ1W84Tp",
        "outputId": "6776abbe-34ab-46a6-c1b8-a40688e576a3"
      },
      "execution_count": 193,
      "outputs": [
        {
          "output_type": "execute_result",
          "data": {
            "text/plain": [
              "[5, 4, 1, 6]"
            ]
          },
          "metadata": {},
          "execution_count": 193
        }
      ]
    },
    {
      "cell_type": "code",
      "source": [
        "counting_sort(A,max(A), verbose = True)"
      ],
      "metadata": {
        "colab": {
          "base_uri": "https://localhost:8080/"
        },
        "id": "-Uwp90Rr-LSC",
        "outputId": "d7ad7d08-69d0-43c6-c235-2e6b77282168"
      },
      "execution_count": 194,
      "outputs": [
        {
          "output_type": "stream",
          "name": "stdout",
          "text": [
            "Input = [5, 4, 1, 6]\n",
            "Empthy C: [0, 0, 0, 0, 0, 0, 0]\n",
            "\n",
            "Conteo en C: [0, 1, 0, 0, 1, 1, 1]\n",
            "C acumulado : [0, 1, 1, 1, 2, 3, 4]\n",
            "\n",
            "Insercion 1\n",
            "\n",
            "A: [5, 4, 1, 6]\n",
            "C : [0, 1, 1, 1, 2, 3, 4]\n",
            "\n",
            "Se inserta el valor 6 en la posicion 4!\n",
            "Arreglo de salida = [0, 0, 0, 6]\n",
            "\n",
            "Insercion 2\n",
            "\n",
            "A: [5, 4, 1, 6]\n",
            "C : [0, 1, 1, 1, 2, 3, 3]\n",
            "\n",
            "Se inserta el valor 1 en la posicion 1!\n",
            "Arreglo de salida = [1, 0, 0, 6]\n",
            "\n",
            "Insercion 3\n",
            "\n",
            "A: [5, 4, 1, 6]\n",
            "C : [0, 0, 1, 1, 2, 3, 3]\n",
            "\n",
            "Se inserta el valor 4 en la posicion 2!\n",
            "Arreglo de salida = [1, 4, 0, 6]\n",
            "\n",
            "Insercion 4\n",
            "\n",
            "A: [5, 4, 1, 6]\n",
            "C : [0, 0, 1, 1, 1, 3, 3]\n",
            "\n",
            "Se inserta el valor 5 en la posicion 3!\n",
            "Arreglo de salida = [1, 4, 5, 6]\n",
            "\n",
            "Arreglo Ordenado!\n",
            "B = [1, 4, 5, 6]\n"
          ]
        },
        {
          "output_type": "execute_result",
          "data": {
            "text/plain": [
              "[1, 4, 5, 6]"
            ]
          },
          "metadata": {},
          "execution_count": 194
        }
      ]
    },
    {
      "cell_type": "markdown",
      "source": [
        "Para la  impelentación de `RadixSort`, es necesario modificar ligeramente la función `CountingSort` para que pueda realizar un el ordenamiento a través de 'trozos' o la posición del un dígito de algún número, en lugar del número completo.\n",
        "\n",
        "Esta segunda implementación reescribe los elementos ordenados en el original para que se mantenga el orden dentro de cada iteración de `RadixSort` y recibe los siguientes parámetros.\n",
        "\n",
        "1. El arreglo $A$ a modificar.\n",
        "2. $fr$, siendo el número por el cual se dividirán los elementos para obtener el valor deseado. Por ejemplo, para obtener el valor $4$ en 1243 es necesario dividir el valor en $10$, para luego obtener el módulo al dividir en 10 nuevamente.\n",
        "    > 1243 // 10 `->`  124 % 10 `->` 4\n",
        "    \n",
        "    Es, en la siguiente implementación, una potencia de 10\n",
        "\n",
        "Y funciona de manera similar al CountingSort regular, con la diferencia de que el arreglo $C$ que contendrá los dígitos solo necesitará 10 posiciones para cubrir todas las posibilidades y la obtención de la posición de cierto número se sacará con el procedimiento explicado anteriormente (Para obtener $4$ desde $1243$)"
      ],
      "metadata": {
        "id": "RY3wtoOPJcwm"
      }
    },
    {
      "cell_type": "code",
      "source": [
        "def radix_counting_sort(A, fr, verbose = False):\n",
        "    len_a = len(A)\n",
        "    B = [0] * len_a     # Creacion arreglo ordenado\n",
        "    C = [0] * 10        # Al ser un solo digito, C contendra los valores de 0 a 9\n",
        "\n",
        "    for j in range(0, len_a): # Conteo de elementos segun resto\n",
        "        i = A[j] // fr    # Obtencion de digito en posicion\n",
        "        C[i % 10] += 1\n",
        "\n",
        "    if verbose==True:\n",
        "        print(f\"C conteo :{C}\")\n",
        "\n",
        "    for j in range(1, 10):    # Acumulacion de conteos\n",
        "        C[j] += C[j - 1]\n",
        "    \n",
        "    if verbose==True:\n",
        "        print(f\"C acumulado :{C}\\n\")\n",
        "\n",
        "    for j in range(len_a-1 , -1, -1): # Insercion de elementos ordenados en B\n",
        "        i = A[j] // fr\n",
        "\n",
        "        if verbose==True:\n",
        "            print(f\"Se inserta {A[j]} en la posicion {C[i % 10]-1}!\")\n",
        "            print(f\"Se disminuye C[{i % 10}] en un digito!\")\n",
        "            print(f\"{C[i % 10]}  -> {C[i % 10]-1}\\n\")\n",
        "\n",
        "        B[C[i % 10] - 1] = A[j]\n",
        "        C[i % 10] -= 1\n",
        "\n",
        "    for i in range(0, len_a):  # Insercion de ordenamiento en  arreglo original\n",
        "        A[i] = B[i]\n"
      ],
      "metadata": {
        "id": "7c8NzrArJapS"
      },
      "execution_count": 170,
      "outputs": []
    },
    {
      "cell_type": "markdown",
      "source": [
        "### Analisis CountingSort"
      ],
      "metadata": {
        "id": "uz9u9rk5yynP"
      }
    },
    {
      "cell_type": "markdown",
      "source": [
        "#### ***Correctitud***\n",
        "Para realizar la correctitud de `CountingSort` se utilizará la inducción.\n",
        "\n",
        "##### ***Hipótesis.***\n",
        "`CountingSort` recibe un arreglo A de n elementos, retornando el arreglo ordenado de forma que $a_1≤a_2≤...≤a_n$\n",
        "\n",
        "##### ***Caso base:***\n",
        "Cuando $n=1$, el arreglo se encuentra trivialmente ordenado.\n",
        "\n",
        "##### ***Paso inductivo:***\n",
        "\n",
        "Para un arreglo de $n$ elementos se realizará el conteo y acumulación de valores en el rango $[0... k]$\n",
        "\n",
        "Luego, se recorre el arreglo $A$ desde el final para insertar los elementos en su posición correspondiente.\n",
        "\n",
        "Para cada iteración $i$ del recorrido de $A$, se realizará lo siguiente: \n",
        "* Se accede al valor $C[A[i]]$, que corresponderá a la suma de los valores menores o iguales a $A[i]$.\n",
        "\n",
        "Esto quiere decir que para $A[i]$ existen $C[A[i]]-1$ números que deben ser posicionados antes de $A[i]$. $C[A[i]]$ resulta ser la posición final del valor. Luego, se le resta una unidad a  $C[A[i]]$, con tal de evitar la superposición de valores repetiddos.\n",
        "\n",
        "Al finalizar el recorrido de $A$, todos los elementos habrán sido insertados en su posición correcta."
      ],
      "metadata": {
        "id": "O8P4q-fqzOZ8"
      }
    },
    {
      "cell_type": "markdown",
      "source": [
        "#### ***Tiempo de ejecucion***\n",
        "Generalmente, conviene utilizar counting sort cuando se tiene que $k = O(n)$, puesto a que es en este caso que el tiempo de ejecución es lineal.\n",
        "\n",
        "Sin embargo, este puede no ser siempre el caso.\n",
        "\n",
        "Analizando las distintas operaciones realizadas por el algoritmo tenemos la siguiente función representando el tiempo de ejecución de CountingSort:\n",
        "\n",
        "$T(n) = O(1) +  O(k) + 2 \\cdot O(n)$\n",
        "\n",
        "Siendo $O(1)$ la creación del arreglo $C$, $O(k)$ el costo por rellenar de O en arreglo $C$ y $2\\cdot O(n)$ el costo del conteo e inserción."
      ],
      "metadata": {
        "id": "8wWDGoGnzPu8"
      }
    },
    {
      "cell_type": "markdown",
      "source": [
        "#### ***Estabilidad***\n",
        "\n",
        "Para la estabilidad de `CountingSort` hay que ver su funcionamiento. \n",
        "\n",
        "Imaginemos que existen dos valores $a_1$ y $a_2$ de igual valor $a = A[i]$ , y que $a_1$ se encuentra colocado antes de $a_2$ en el arreglo $A$.\n",
        "\n",
        "Al realizar la lectura e inserción de elementos desde $[len(a)..0]$, el primer elemento que sería leído e insertado es $a_2$.\n",
        "\n",
        "Asumiendo que esta es una primera inserción de algún elemento de valor $a$, se colocaría en la posición $C[A[i]]$ , correspondiente a la cantidad de los elementos que le preceden, y se restaría una unidad a $C[A[i]]$.\n",
        "\n",
        "Una vez se lea nuevamente un valor $a$, $a_1$ (Que se encuentra en un índice de menor valor como se indicó anteriormente) se insertará en un valor de $C[]$ menor al anterior. Ya que $C[A[i]]$ jamás aumenta, esto se mantiene para cualquier cantidad de elementos $a$ insertados.\n",
        "\n",
        "Por lo tanto, `CountingSort` es estable. <br><br>\n",
        "\n",
        "\n",
        "\n",
        "---\n",
        "\n"
      ],
      "metadata": {
        "id": "F28mYdvXAtqn"
      }
    },
    {
      "cell_type": "markdown",
      "source": [
        "## Ejemplo de RadixSort\n",
        "\n",
        "Consideremos el siguiente arreglo:\n",
        "\n",
        "$A=[19,63,53,70]$\n",
        "\n",
        "Para la primera pasada, se realizará el ordenamiento según el primer dígito *(de derecha a izquierda*)\n",
        "\n",
        "`counting sort 1`\n",
        "\n",
        "Se ordenan los elementos a partir del dígito en la primera posición (de derecha a izquierda)\n",
        "\n",
        "Se realiza el conteo y suma de elementos:\n",
        "\n",
        "$C=[0,0,0,0,0,0,0,0,0,0]$\n",
        "\n",
        "$C=[1,0,0,2,0,0,0,0,0,1]$\n",
        "\n",
        "$C=[1,1,1,3,3,3,3,3,3,4]$\n",
        "\n",
        "Se recorre el arreglo A desde el final insertando los elementos como  correponda.\n",
        "\n",
        "Inserciones:\n",
        "1. 70, `0 -> se inserta en la posición 1-1, se resta 1 a C[0]`\n",
        "2. 53, `3 -> se inserta en la posicion 3-1, se resta 1 a C[3]`\n",
        "3. 63, `3 -> se inserta en la posicion 2-1, se resta 1 a C[3]`\n",
        "4. 19, `9 -> se inserta en la posicion 4-1, se resta 1 a C[9]`\n",
        "\n",
        "Arreglo B, conteniendo los cambios de posición:\n",
        "$B = [70, 63, 53, 19]$\n",
        "\n",
        "Y se reescriben estos resultados en A.\n",
        "\n",
        "Nótese cómo, al hacer la inserción de elementos, aún existiendo dos elemetos siendo ordenados por el valor $3$, han mantenido el orden original. Esto significa que counting sort es un algoritmo **estable**.\n",
        "\n",
        "\n",
        "`counting sort 2`\n",
        "\n",
        "Se ordenan los elementos a partir del dígito en la segunda posición. \n",
        "\n",
        "Ahora, el arreglo A es $[70, 63, 53, 19]$\n",
        "\n",
        "Se realiza el conteo y suma de elementos:\n",
        "\n",
        "$C=[0,0,0,0,0,0,0,0,0,0]$\n",
        "\n",
        "$C=[0,1,0,0,0,1,1,1,0,0]$\n",
        "\n",
        "$C=[0,1,1,1,1,2,3,4,4,4]$\n",
        "\n",
        "Se recorre el arreglo A desde el final insertando los elementos en $B$ como  correponda.\n",
        "\n",
        "Inserciones:\n",
        "1. 19, `1 -> se inserta en la posición 1-1, se resta 1 a C[1]`\n",
        "2. 53, `5 -> se inserta en la posicion 2-1, se resta 1 a C[5]`\n",
        "3. 63, `6 -> se inserta en la posicion 3-1, se resta 1 a C[6]`\n",
        "4. 70, `7 -> se inserta en la posicion 4-1, se resta 1 a C[7]`\n",
        "\n",
        "Arreglo B, conteniendo los cambios de posición:\n",
        "$B = [19, 53, 63, 70]$\n",
        "\n",
        "Y se reescriben estos resultados en A.\n",
        "\n",
        "` fin `\n",
        "\n",
        "Y con esto se ha ordenado el arreglo $A=[19,63,53,70]$ a $A = [19, 53, 63, 70]$  utilizando `RadixSort`.\n",
        "\n",
        "\n",
        "\n"
      ],
      "metadata": {
        "id": "TmM2zOf_y4Wr"
      }
    },
    {
      "cell_type": "markdown",
      "source": [
        "## Código\n",
        "`RadixSort` acepta 2 argumentos:\n",
        "1. El arreglo A a ordenar\n",
        "2. El parámetro `verbose`, para la impresión paso a paso.\n"
      ],
      "metadata": {
        "id": "RlROKBD_y9Cn"
      }
    },
    {
      "cell_type": "code",
      "source": [
        "from math import log10\n",
        "\n",
        "def radixSort(A, verbose = False):\n",
        "    maximo = max(A)   # Obtener el elemento maximo\n",
        "\n",
        "    if verbose==True:\n",
        "        print(f\"Arreglo de entrada : \")\n",
        "        print(f\"{A}\\n\")\n",
        "        print(f\"Maximo elemento del arreglo: {maximo}\\n\")\n",
        "        print(\"-------------------------------------------------------------------\")\n",
        "    \n",
        "\n",
        "    dig = 1\n",
        "    cont = 1\n",
        "    while maximo // dig > 0:\n",
        "\n",
        "        if verbose==True:\n",
        "            print(f\"Pasada {cont}\\n\")\n",
        "            print(f\"Counting sort (radix) {cont}\")\n",
        "            print(f\"\\nOrdenando digitos en la {int(log10(dig)+1)} posicion:\")\n",
        "\n",
        "        radix_counting_sort(A, dig, verbose = verbose)\n",
        "\n",
        "        if verbose==True:\n",
        "            print(f\"Resultado : {A}\\n\")\n",
        "            print(\"-------------------------------------------------------------------\")\n",
        "\n",
        "        dig *= 10\n",
        "        cont += 1\n",
        "    \n",
        "    if verbose==True:\n",
        "        print(\"\\nArreglo ordenado.\")\n",
        "        print(A)\n",
        "\n",
        "from random import choices\n",
        "\n",
        "A = choices(range(0,299), k = 15)\n",
        "A"
      ],
      "metadata": {
        "colab": {
          "base_uri": "https://localhost:8080/"
        },
        "id": "HXYXl7zvtE8o",
        "outputId": "d6b14a08-99a3-4ac8-946d-fd3db8b16e70"
      },
      "execution_count": 187,
      "outputs": [
        {
          "output_type": "execute_result",
          "data": {
            "text/plain": [
              "[251, 179, 289, 115, 258, 96, 228, 13, 65, 13, 236, 7, 118, 146, 71]"
            ]
          },
          "metadata": {},
          "execution_count": 187
        }
      ]
    },
    {
      "cell_type": "code",
      "source": [
        "radixSort(A)\n",
        "A"
      ],
      "metadata": {
        "colab": {
          "base_uri": "https://localhost:8080/"
        },
        "id": "7hQVDYLjZ4fr",
        "outputId": "3a7c94e2-2eb7-4930-c693-8fb27516665a"
      },
      "execution_count": 188,
      "outputs": [
        {
          "output_type": "execute_result",
          "data": {
            "text/plain": [
              "[7, 13, 13, 65, 71, 96, 115, 118, 146, 179, 228, 236, 251, 258, 289]"
            ]
          },
          "metadata": {},
          "execution_count": 188
        }
      ]
    },
    {
      "cell_type": "markdown",
      "source": [
        "### Ejemplo paso a paso `verbose = True`\n"
      ],
      "metadata": {
        "id": "GVyELRjaW8B5"
      }
    },
    {
      "cell_type": "code",
      "source": [
        "from random import choices\n",
        "\n",
        "A = choices(range(0,50), k = 3)\n",
        "B = choices(range(100,999), k = 3)\n",
        "C = choices(range(1000,9999), k = 3)\n",
        "\n",
        "A = C+B+A\n",
        "A"
      ],
      "metadata": {
        "colab": {
          "base_uri": "https://localhost:8080/"
        },
        "id": "i-8norTnZ7Dl",
        "outputId": "9c22d069-c985-4a04-e88d-f55c6908f1af"
      },
      "execution_count": 189,
      "outputs": [
        {
          "output_type": "execute_result",
          "data": {
            "text/plain": [
              "[1092, 4679, 4551, 593, 171, 151, 12, 44, 2]"
            ]
          },
          "metadata": {},
          "execution_count": 189
        }
      ]
    },
    {
      "cell_type": "code",
      "source": [
        "radixSort(A, verbose=True)"
      ],
      "metadata": {
        "colab": {
          "base_uri": "https://localhost:8080/"
        },
        "id": "valau-U9aXy8",
        "outputId": "4cc6838a-101f-4f36-aca4-3e3bcc41744e"
      },
      "execution_count": 190,
      "outputs": [
        {
          "output_type": "stream",
          "name": "stdout",
          "text": [
            "Arreglo de entrada : \n",
            "[1092, 4679, 4551, 593, 171, 151, 12, 44, 2]\n",
            "\n",
            "Maximo elemento del arreglo: 4679\n",
            "\n",
            "-------------------------------------------------------------------\n",
            "Pasada 1\n",
            "\n",
            "Counting sort (radix) 1\n",
            "\n",
            "Ordenando digitos en la 1 posicion:\n",
            "C conteo :[0, 3, 3, 1, 1, 0, 0, 0, 0, 1]\n",
            "C acumulado :[0, 3, 6, 7, 8, 8, 8, 8, 8, 9]\n",
            "\n",
            "Se inserta 2 en la posicion 5!\n",
            "Se disminuye C[2] en un digito!\n",
            "6  -> 5\n",
            "\n",
            "Se inserta 44 en la posicion 7!\n",
            "Se disminuye C[4] en un digito!\n",
            "8  -> 7\n",
            "\n",
            "Se inserta 12 en la posicion 4!\n",
            "Se disminuye C[2] en un digito!\n",
            "5  -> 4\n",
            "\n",
            "Se inserta 151 en la posicion 2!\n",
            "Se disminuye C[1] en un digito!\n",
            "3  -> 2\n",
            "\n",
            "Se inserta 171 en la posicion 1!\n",
            "Se disminuye C[1] en un digito!\n",
            "2  -> 1\n",
            "\n",
            "Se inserta 593 en la posicion 6!\n",
            "Se disminuye C[3] en un digito!\n",
            "7  -> 6\n",
            "\n",
            "Se inserta 4551 en la posicion 0!\n",
            "Se disminuye C[1] en un digito!\n",
            "1  -> 0\n",
            "\n",
            "Se inserta 4679 en la posicion 8!\n",
            "Se disminuye C[9] en un digito!\n",
            "9  -> 8\n",
            "\n",
            "Se inserta 1092 en la posicion 3!\n",
            "Se disminuye C[2] en un digito!\n",
            "4  -> 3\n",
            "\n",
            "Resultado : [4551, 171, 151, 1092, 12, 2, 593, 44, 4679]\n",
            "\n",
            "-------------------------------------------------------------------\n",
            "Pasada 2\n",
            "\n",
            "Counting sort (radix) 2\n",
            "\n",
            "Ordenando digitos en la 2 posicion:\n",
            "C conteo :[1, 1, 0, 0, 1, 2, 0, 2, 0, 2]\n",
            "C acumulado :[1, 2, 2, 2, 3, 5, 5, 7, 7, 9]\n",
            "\n",
            "Se inserta 4679 en la posicion 6!\n",
            "Se disminuye C[7] en un digito!\n",
            "7  -> 6\n",
            "\n",
            "Se inserta 44 en la posicion 2!\n",
            "Se disminuye C[4] en un digito!\n",
            "3  -> 2\n",
            "\n",
            "Se inserta 593 en la posicion 8!\n",
            "Se disminuye C[9] en un digito!\n",
            "9  -> 8\n",
            "\n",
            "Se inserta 2 en la posicion 0!\n",
            "Se disminuye C[0] en un digito!\n",
            "1  -> 0\n",
            "\n",
            "Se inserta 12 en la posicion 1!\n",
            "Se disminuye C[1] en un digito!\n",
            "2  -> 1\n",
            "\n",
            "Se inserta 1092 en la posicion 7!\n",
            "Se disminuye C[9] en un digito!\n",
            "8  -> 7\n",
            "\n",
            "Se inserta 151 en la posicion 4!\n",
            "Se disminuye C[5] en un digito!\n",
            "5  -> 4\n",
            "\n",
            "Se inserta 171 en la posicion 5!\n",
            "Se disminuye C[7] en un digito!\n",
            "6  -> 5\n",
            "\n",
            "Se inserta 4551 en la posicion 3!\n",
            "Se disminuye C[5] en un digito!\n",
            "4  -> 3\n",
            "\n",
            "Resultado : [2, 12, 44, 4551, 151, 171, 4679, 1092, 593]\n",
            "\n",
            "-------------------------------------------------------------------\n",
            "Pasada 3\n",
            "\n",
            "Counting sort (radix) 3\n",
            "\n",
            "Ordenando digitos en la 3 posicion:\n",
            "C conteo :[4, 2, 0, 0, 0, 2, 1, 0, 0, 0]\n",
            "C acumulado :[4, 6, 6, 6, 6, 8, 9, 9, 9, 9]\n",
            "\n",
            "Se inserta 593 en la posicion 7!\n",
            "Se disminuye C[5] en un digito!\n",
            "8  -> 7\n",
            "\n",
            "Se inserta 1092 en la posicion 3!\n",
            "Se disminuye C[0] en un digito!\n",
            "4  -> 3\n",
            "\n",
            "Se inserta 4679 en la posicion 8!\n",
            "Se disminuye C[6] en un digito!\n",
            "9  -> 8\n",
            "\n",
            "Se inserta 171 en la posicion 5!\n",
            "Se disminuye C[1] en un digito!\n",
            "6  -> 5\n",
            "\n",
            "Se inserta 151 en la posicion 4!\n",
            "Se disminuye C[1] en un digito!\n",
            "5  -> 4\n",
            "\n",
            "Se inserta 4551 en la posicion 6!\n",
            "Se disminuye C[5] en un digito!\n",
            "7  -> 6\n",
            "\n",
            "Se inserta 44 en la posicion 2!\n",
            "Se disminuye C[0] en un digito!\n",
            "3  -> 2\n",
            "\n",
            "Se inserta 12 en la posicion 1!\n",
            "Se disminuye C[0] en un digito!\n",
            "2  -> 1\n",
            "\n",
            "Se inserta 2 en la posicion 0!\n",
            "Se disminuye C[0] en un digito!\n",
            "1  -> 0\n",
            "\n",
            "Resultado : [2, 12, 44, 1092, 151, 171, 4551, 593, 4679]\n",
            "\n",
            "-------------------------------------------------------------------\n",
            "Pasada 4\n",
            "\n",
            "Counting sort (radix) 4\n",
            "\n",
            "Ordenando digitos en la 4 posicion:\n",
            "C conteo :[6, 1, 0, 0, 2, 0, 0, 0, 0, 0]\n",
            "C acumulado :[6, 7, 7, 7, 9, 9, 9, 9, 9, 9]\n",
            "\n",
            "Se inserta 4679 en la posicion 8!\n",
            "Se disminuye C[4] en un digito!\n",
            "9  -> 8\n",
            "\n",
            "Se inserta 593 en la posicion 5!\n",
            "Se disminuye C[0] en un digito!\n",
            "6  -> 5\n",
            "\n",
            "Se inserta 4551 en la posicion 7!\n",
            "Se disminuye C[4] en un digito!\n",
            "8  -> 7\n",
            "\n",
            "Se inserta 171 en la posicion 4!\n",
            "Se disminuye C[0] en un digito!\n",
            "5  -> 4\n",
            "\n",
            "Se inserta 151 en la posicion 3!\n",
            "Se disminuye C[0] en un digito!\n",
            "4  -> 3\n",
            "\n",
            "Se inserta 1092 en la posicion 6!\n",
            "Se disminuye C[1] en un digito!\n",
            "7  -> 6\n",
            "\n",
            "Se inserta 44 en la posicion 2!\n",
            "Se disminuye C[0] en un digito!\n",
            "3  -> 2\n",
            "\n",
            "Se inserta 12 en la posicion 1!\n",
            "Se disminuye C[0] en un digito!\n",
            "2  -> 1\n",
            "\n",
            "Se inserta 2 en la posicion 0!\n",
            "Se disminuye C[0] en un digito!\n",
            "1  -> 0\n",
            "\n",
            "Resultado : [2, 12, 44, 151, 171, 593, 1092, 4551, 4679]\n",
            "\n",
            "-------------------------------------------------------------------\n",
            "\n",
            "Arreglo ordenado.\n",
            "[2, 12, 44, 151, 171, 593, 1092, 4551, 4679]\n"
          ]
        }
      ]
    },
    {
      "cell_type": "markdown",
      "source": [
        "## Análisis del algoritmo"
      ],
      "metadata": {
        "id": "j-Pgum_czXkn"
      }
    },
    {
      "cell_type": "markdown",
      "source": [
        "### Correctitud\n",
        "En el caso de `RadixSort` es escencial para el buen funcionamiento que el sub-proceso que ordena los números por dígitos sea estable. La razón de esto es que, para el ordenamiento según algún dígito $d$, se debe mantener el orden de todos aquellos que le preceden (estable)\n",
        "\n",
        "Se asume que el `CountingSort` utilizado por `RadixSort` es estable.\n",
        "\n",
        "---\n",
        "\n",
        "\n",
        "\n",
        "Para demostrar la correctitud del algoritmo `RadixSort` se utilizará el método de inducción.\n",
        "\n",
        "#### ***Hipótesis:***\n",
        "`RadixSort`  recibe un arreglo  $A$  de  $n$  elementos, retornando el arreglo ordenado de forma que  $a_1≤a_2≤...a_n$\n",
        "\n",
        "\n",
        "\n",
        "Por cada iteración $d$, los elementos serán ordenados a partir de $d$-ésimo dígito *(menor a mayor importancia)*.\n",
        "\n",
        "##### ***Caso Base:***\n",
        "Cuando $d = 1$, asumiendo que counting sort es correcto, los elementos estarán ordenados correctamente. Al no existir más dígitos a considerar, arreglo se encuentra ordenado.\n",
        "\n",
        "##### ***Caso Inductivo:***\n",
        "Al ordenar según algún dígito $d$:\n",
        "\n",
        "\n",
        "*   Elementos que se encuentren en su posición correcta se mantendrán ahí.\n",
        "*   Elementos de igual valor en $d$ serán colocados en el orden de lectura, respetando el orden impuesto por los dígitos anteriores\n",
        "*   Elementos de distinto valor en el dígito $d$ serán colocados en la posición correspondiente.\n",
        "\n",
        "Siendo el subproceso que ordena los valores por el $d$-ésimo dígito estable, se comprueba que el algoritmo ordena correctamente los elementos del $d-ésimo$ elemento hacia atrás.\n",
        "\n",
        "Cuando $d$ es el máximo de dígitos a ordenar, el arreglo se encontrará correctamente ordenado.\n",
        "\n",
        "Por lo tanto, `RadixSort` es ***correcto***"
      ],
      "metadata": {
        "id": "Y9osje81zdWR"
      }
    },
    {
      "cell_type": "markdown",
      "source": [
        "### Tiempo de ejecución\n",
        "\n",
        "Siendo `CountingSort` el algoritmo que se utiliza par el ordenamiento según dígitos, con un tiempo de ejecución $O(n+k)$, `RadixSort` tendrá un tiempo de ejecución de $O(d\\cdot (n+k))$\n",
        "\n",
        "Esto se debe a que por cada iteración, se realizará una ejecución de `CountingSort`. Siendo $d$ el máximo de dígitos que se pueden comparar, resulta en $d$ $veces$ $(n+k)$."
      ],
      "metadata": {
        "id": "LLZ6jh3lzkhW"
      }
    },
    {
      "cell_type": "markdown",
      "source": [
        "## Experimentación\n"
      ],
      "metadata": {
        "id": "OVpYDHONzr8Z"
      }
    },
    {
      "cell_type": "markdown",
      "source": [
        "###1. Experimento propuesto en guía.\n",
        "\n",
        ">*Compare con CountingSort y BucketSort para ordenar números enteros.*\n",
        "\n",
        "Las implementaciones de [`InsertionSort`](https://www.geeksforgeeks.org/insertion-sort/) y [`BucketSort`](https://www.geeksforgeeks.org/bucket-sort-2/) han sido extraídas desde GeeksforGeeks."
      ],
      "metadata": {
        "id": "oEVSpQmnEIKN"
      }
    },
    {
      "cell_type": "code",
      "source": [
        "def insertionSort(arr):\n",
        "    for i in range(1, len(arr)):\n",
        "        key = arr[i]\n",
        "  \n",
        "        j = i-1\n",
        "        while j >= 0 and key < arr[j] :\n",
        "                arr[j + 1] = arr[j]\n",
        "                j -= 1\n",
        "        arr[j + 1] = key"
      ],
      "metadata": {
        "id": "T068Ge2RFF18"
      },
      "execution_count": 196,
      "outputs": []
    },
    {
      "cell_type": "code",
      "source": [
        "def bucketSort(arr, noOfBuckets):\n",
        "    max_ele = max(arr)\n",
        "    min_ele = min(arr)\n",
        "  \n",
        "    # range(for buckets)\n",
        "    rnge = (max_ele - min_ele) / noOfBuckets\n",
        "  \n",
        "    temp = []\n",
        "  \n",
        "    # create empty buckets\n",
        "    for i in range(noOfBuckets):\n",
        "        temp.append([])\n",
        "  \n",
        "    # scatter the array elements\n",
        "    # into the correct bucket\n",
        "    for i in range(len(arr)):\n",
        "        diff = (arr[i] - min_ele) / rnge - int((arr[i] - min_ele) / rnge)\n",
        "  \n",
        "        # append the boundary elements to the lower array\n",
        "        if(diff == 0 and arr[i] != min_ele):\n",
        "            temp[int((arr[i] - min_ele) / rnge) - 1].append(arr[i])\n",
        "  \n",
        "        else:\n",
        "            temp[int((arr[i] - min_ele) / rnge)].append(arr[i])\n",
        "  \n",
        "    # Sort each bucket individually\n",
        "    for i in range(len(temp)):\n",
        "        if len(temp[i]) != 0:\n",
        "            insertionSort(temp[i])\n",
        "\n",
        "    # Gather sorted elements \n",
        "    # to the original array\n",
        "    k = 0\n",
        "    for lst in temp:\n",
        "        if lst:\n",
        "            for i in lst:\n",
        "                arr[k] = i\n",
        "                k = k+1\n",
        "  \n",
        "# This code is contributed by\n",
        "# Vinita Yadav"
      ],
      "metadata": {
        "id": "w0LWg_bWEcgo"
      },
      "execution_count": 215,
      "outputs": []
    },
    {
      "cell_type": "code",
      "source": [
        "#CountingSort vs BucketSort vs RadixSort\n",
        "import matplotlib.pyplot as plt\n",
        "import seaborn as sns\n",
        "import datetime\n",
        "import random\n",
        "from timeit import repeat\n",
        "\n",
        "%matplotlib inline\n",
        "\n",
        "sns.set(context='notebook', style='darkgrid', palette='dark')\n",
        "\n",
        "x=[]; x2 =[]; x3=[]\n",
        "y=[]; y2=[];y3=[]\n",
        "\n",
        "for n in range(5,600):\n",
        "\n",
        "  a = random.sample(range(1, 1000), n)\n",
        "  t = repeat(setup=\"from __main__ import counting_sort\", stmt=f\"counting_sort({a},{max(a)})\", repeat=1, number=10)\n",
        "\n",
        "  x.append(n)\n",
        "  y.append(t)\n",
        "\n",
        "for n in range(5,600):\n",
        "\n",
        "  a = random.sample(range(1, 1000), n)\n",
        "\n",
        "  t = repeat(setup=\"from __main__ import bucketSort\", stmt=f\"bucketSort({a},{10})\", repeat=1, number=10)\n",
        "\n",
        "  x2.append(n)\n",
        "  y2.append(t)\n",
        "\n",
        "for n in range(5,600):\n",
        "\n",
        "  a = random.sample(range(1, 1000), n)\n",
        "  t = repeat(setup=\"from __main__ import radixSort\", stmt=f\"radixSort({a})\", repeat=1, number=10)\n",
        "\n",
        "  x3.append(n)\n",
        "  y3.append(t)\n",
        "\n",
        "\n",
        "plt.plot(x,y)\n",
        "plt.plot(x2,y2)\n",
        "plt.plot(x3,y3)\n",
        "plt.legend([\"Counting Sort\", \"bucketSort\", \"RadixSort\"])\n",
        "\n",
        "plt.xlabel('n')\n",
        "plt.ylabel('time in ms')\n",
        "plt.title('Tiempo de ejecucion ')\n",
        "plt.show()"
      ],
      "metadata": {
        "colab": {
          "base_uri": "https://localhost:8080/",
          "height": 301
        },
        "id": "8kpHVhwoOo0l",
        "outputId": "661157d1-3731-4e3f-ba49-6f18cbb8937a"
      },
      "execution_count": 217,
      "outputs": [
        {
          "output_type": "display_data",
          "data": {
            "text/plain": [
              "<Figure size 432x288 with 1 Axes>"
            ],
            "image/png": "[encoded data removed]"
          },
          "metadata": {}
        }
      ]
    },
    {
      "cell_type": "markdown",
      "source": [
        "El tiempo de ejecución parece ser mayor para el algoritmo bucketSort. Sin embargo, esto puedo variar segun la cantidad de buckets seleccionados"
      ],
      "metadata": {
        "id": "FQbbH3rMTmDH"
      }
    },
    {
      "cell_type": "code",
      "source": [
        "#CountingSort vs BucketSort vs RadixSort\n",
        "import matplotlib.pyplot as plt\n",
        "import seaborn as sns\n",
        "import datetime\n",
        "import random\n",
        "from timeit import repeat\n",
        "\n",
        "%matplotlib inline\n",
        "\n",
        "sns.set(context='notebook', style='darkgrid', palette='dark')\n",
        "\n",
        "x=[]; x2 =[]; x3=[]\n",
        "y=[]; y2=[];y3=[]\n",
        "\n",
        "for n in range(5,600):\n",
        "\n",
        "  a = random.sample(range(1, 1000), n)\n",
        "  t = repeat(setup=\"from __main__ import counting_sort\", stmt=f\"counting_sort({a},{max(a)})\", repeat=1, number=10)\n",
        "\n",
        "  x.append(n)\n",
        "  y.append(t)\n",
        "\n",
        "for n in range(5,600):\n",
        "\n",
        "  a = random.sample(range(1, 1000), n)\n",
        "\n",
        "  t = repeat(setup=\"from __main__ import bucketSort\", stmt=f\"bucketSort({a},{20})\", repeat=1, number=10)\n",
        "\n",
        "  x2.append(n)\n",
        "  y2.append(t)\n",
        "\n",
        "for n in range(5,600):\n",
        "\n",
        "  a = random.sample(range(1, 1000), n)\n",
        "  t = repeat(setup=\"from __main__ import radixSort\", stmt=f\"radixSort({a})\", repeat=1, number=10)\n",
        "\n",
        "  x3.append(n)\n",
        "  y3.append(t)\n",
        "\n",
        "\n",
        "plt.plot(x,y)\n",
        "plt.plot(x2,y2)\n",
        "plt.plot(x3,y3)\n",
        "plt.legend([\"Counting Sort\", \"bucketSort\", \"RadixSort\"])\n",
        "\n",
        "plt.xlabel('n')\n",
        "plt.ylabel('time in ms')\n",
        "plt.title('Tiempo de ejecucion ')\n",
        "plt.show()"
      ],
      "metadata": {
        "colab": {
          "base_uri": "https://localhost:8080/",
          "height": 301
        },
        "id": "z7dWVLPZW_Q0",
        "outputId": "ec216d11-ace2-4f3c-d512-cc60325db451"
      },
      "execution_count": 226,
      "outputs": [
        {
          "output_type": "display_data",
          "data": {
            "text/plain": [
              "<Figure size 432x288 with 1 Axes>"
            ],
            "image/png": "[encoded data removed]"
          },
          "metadata": {}
        }
      ]
    },
    {
      "cell_type": "markdown",
      "source": [
        "Se nota una disminución considerable en el tiempo de ejecución para bucketsort utilizando 20 buckets en lugar de 10."
      ],
      "metadata": {
        "id": "rR0nyooOXlID"
      }
    }
  ]
}