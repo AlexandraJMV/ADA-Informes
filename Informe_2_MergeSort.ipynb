{
  "nbformat": 4,
  "nbformat_minor": 0,
  "metadata": {
    "colab": {
      "name": "Informe 2 - MergeSort.ipynb",
      "provenance": [],
      "collapsed_sections": [],
      "authorship_tag": "ABX9TyOqmHaqJ+Z/U7jJLtf+hfYJ",
      "include_colab_link": true
    },
    "kernelspec": {
      "name": "python3",
      "display_name": "Python 3"
    },
    "language_info": {
      "name": "python"
    }
  },
  "cells": [
    {
      "cell_type": "markdown",
      "metadata": {
        "id": "view-in-github",
        "colab_type": "text"
      },
      "source": [
        "<a href=\"https://colab.research.google.com/github/AlexandraJMV/ADA-Informes/blob/main/Informe_2_MergeSort.ipynb\" target=\"_parent\"><img src=\"https://colab.research.google.com/assets/colab-badge.svg\" alt=\"Open In Colab\"/></a>"
      ]
    },
    {
      "cell_type": "markdown",
      "source": [
        "#  ***MergeSort***\n",
        "\n",
        "## **Problema: Ordenamiento de una secuencia de números**\n",
        "---\n",
        "\n",
        "En general, un problema de ordenamiento para *n elementos numéricos* se puede describir de la siguiente forma:\n",
        "\n",
        ">**Entrada**: Secuencia de n números $[a_1,a_2,...,a_n]$\n",
        ">\n",
        ">**Salida**: Permutación ordenada de la secuencia de entrada: $[a_1',a_2',...,a_n']$, de tal manera que $a_1'\\leq a_2' \\leq... \\leq a_n'$.\n",
        "\n",
        "Buenas soluciones para problemas de ordenamiento son fundamentales para la optimización de otros procediminetos como por ejemplo la búsqueda binaria, algoritmo que depende de un arreglo ordenado de valores para poder implementarse.\n",
        "\n",
        "\n"
      ],
      "metadata": {
        "id": "AtHwGF1VNXWU"
      }
    },
    {
      "cell_type": "markdown",
      "source": [
        "##  **Descripción del algoritmo**\n",
        "\n",
        "*MergeSort* es uno de los numerosos algoritmos que tiene como objetivo resolver el problema de ordenamiento anteriormente descrito. Utiliza el *paradigma divide y vencerás* para resolverlo, pues divide constantemente el problema en sub-problemas de forma recursiva, combinándolos en el arreglo resultante.\n",
        "\n",
        "\n",
        "Su funcionamineto en código es el siguiente:\n",
        "```\n",
        "MergeSort(A,p,r):\n",
        "    q = int(p+r/2)\n",
        "\n",
        "    Si p == r : return       \n",
        "    MergeSort(A,p,q)         # Llamada recursiva para sub-arreglo izquierdo\n",
        "    MergeSort(A,q+1,r)       # LLamada recursiva para sub-arrgelo derecho\n",
        "    Merge(A,p,q,r)\n",
        "```\n",
        "\n",
        "Como se puede observar, la función recibe tres parámetros\n",
        ">> Un arreglo $A$ de $n$ elementos. Nótese que el valor de $n$ no es fijo para todas las llamadas recursivas pues dependerá de la *'profundidad'* en la cual nos encontremos, razón por la cual $n$ no es un parámetro.\n",
        ">\n",
        ">>Índices $p$ y $r$, correspondientes a los límites superiores e inferiores del arreglo que se quiere ordenar.\n",
        "\n",
        "Dada las dos llamadas recursivas que se realiza dentro de la función `MergeSort`, se puede representar como un árbol binario. Más adelante se mostrará un ejemplo de esta representación.\n",
        "\n",
        "Dado un arreglo $a$ cualquiera, se puede decir que los parámetros iniciales *(primera llamada a la función)* serán $0$ y $len(a)-1$, pues abarcan la totalidad de la estructura. \n",
        "\n",
        "Para futuras iteraciones dependerán de la implemenación que se utilice. Si se separan los sub-arreglos generados al dividir el problema, seguirá la misma lógica. Para trabajar con índices hay que utilizar la suma de los límites con tal de encontrar el elemento medio. \n",
        "\n",
        "\n",
        "MergeSort se preocupa básicamente de dividir el arreglo original hasta sus menores componentes, contribuyendo a la parte de **divide** en *divide y vencerás*. Sin embargo, se puede ver en el ejemplo de código anterior una segunda función, llamada `Merge`, y que resulta ser parte fundamental del algoritmo pues es aquella que se encarga del ordenamiento y unificación de los datos, dados dos arreglos y correspondiendo a la resolución de los sub-problemas y unificación en *divide y vencerás*. A continuación se explicará a detalle."
      ],
      "metadata": {
        "id": "Z2EvIZvhN27D"
      }
    },
    {
      "cell_type": "markdown",
      "source": [
        "\n",
        "###  **Función *Merge***\n",
        "\n",
        "Esta función es la parte principal para el buen funcionamiento del algoritmo. Es aquella que se encarga de verdadero ordenamiento de datos, pues el resto de la operaciones consiste llamadas a funciones y división de arreglos.\n",
        "\n",
        "Se ha decidido implementar de la siguiente forma:\n",
        "\n",
        "> ***Merge*** recibirá cuatro parámetros\n",
        ">\n",
        ">>El arreglo $A$ a ordenar\n",
        ">\n",
        ">>El índice $p$, correspondiente al primer elemento del primer sub-arregl ordenado dentro de $A$, $A[p..q]$\n",
        ">\n",
        ">>El índice $q$, correspondientes al delimitador entre ambos sub-arreglos ordenados en $A$, $A[p..q]$ y $A[q+1..r]$\n",
        ">\n",
        ">>El índice $r$, elemento final del segundo sub-arreglo ordenado en $A$, $A[q+1...r]$\n",
        "\n",
        "\n",
        "\n",
        "Se recalca nuevamente como los dos sub-arreglos contenidos o derivados de $A$ se encuentran siempre ordenados. Si no fuese así, el algortimo no podría realizar su trabajo.\n",
        "\n",
        "<br> En general, funcionará de la siguiente forma:\n",
        "1. Se crea el  arreglo final $B$ vacío. Este se encargará de almacenar los datos ordenados.\n",
        "2. Se comparan elemento a elemento los valores dentro de ambos arreglos. Aquel valor que sea menor se insertará dentro de $B$, haciendo una eliminación o avance de índice dentro del arreglo del cual se extrajo.\n",
        "3. Continuar el procedimiento hasta que alguno de los arreglos contenga 0 elementos *(O el índice inferior sea menor que el superior)*, situación en la cual se insertarán todos los elementos restantes del otro al final de $B$\n",
        "\n",
        "\n",
        "<img src=\"https://i.imgur.com/OTM3Bxm.png\" alt=\"Funcionamiento Merge\"\n",
        "     width=\"500\"> <br>\n",
        "\n",
        "Una vez se tenga el arreglo ordenado, este se retornará para futuras llamadas a Merge o reemplazará dentro de A."
      ],
      "metadata": {
        "id": "e33KAbjDxxaj"
      }
    },
    {
      "cell_type": "markdown",
      "source": [
        "## **Ejemplo funcionamiento MergeSort**\n",
        "Consideremos el arreglo: $a = [9,0,1,3,7]$ <br>\n",
        "La siguiente imagen representa los pasos realizados por el algoritmo para entregar el arreglo ordenado:\n",
        "\n",
        "<img src=\"https://i.imgur.com/GcN72Jg.png\" \n",
        "     alt=\"arreglo a en MergeSort\"\n",
        "     width=\"600\" height=\"600\">\n",
        "\n",
        "A pesar de la implementación utilizada en este informe, el valor de $q$ en la imagen es relativa al tamaño del arreglo para mejorar el entendimiento del diagrama.\n",
        "\n",
        "Los números acompañando cada arreglo representan el orden con el cual se realiza cada acción, independiente de lo que implique su representación como árbol binario. Se observa como, para cualquier arreglo divisible, se parte desde la rama izquierda hasta llegar a un arreglo de un sólo elemento, situación en lacual empiezan a ocurrir las combinaciones de arreglos.\n",
        "Esto tiene sentido teniendo en mente la recursividad del algoritmo, pues solo al terminar de realizarse toda una llamada de función, se considerará la otra.\n"
      ],
      "metadata": {
        "id": "e-y17ucMOB2U"
      }
    },
    {
      "cell_type": "markdown",
      "source": [
        "## **Implementación Merge**\n",
        "Se ha decidido implementar la función `Merge` de la siguiente forma:\n"
      ],
      "metadata": {
        "id": "L80sOeSHOydf"
      }
    },
    {
      "cell_type": "code",
      "source": [
        "def Merge(A,p,q,r):\n",
        "  arr_B = []\n",
        "  c = 0                # Número de comparaciones\n",
        "\n",
        "  cpy_q = q            # Almacenar valor inicial de \n",
        "  cpy_p = p            # q y p para futuras operaciones\n",
        "  q+= 1                \n",
        "\n",
        "  while p != cpy_q+1 and q != r+1:\n",
        "    c += 1\n",
        "    if A[p] <= A[q] : arr_B.append(A[p]) ; p+= 1   # Caso en el cual valor derecho es menor (o igual)\n",
        "    elif A[q] < A[p] : arr_B.append(A[q]) ; q+= 1  # Caso izquierdo\n",
        "\n",
        "  if p == cpy_q+1:                                 # Agregar elementos sobrantes\n",
        "    arr_B += A[q:r+1]\n",
        "  elif  q == r+1:\n",
        "    arr_B += A[p:cpy_q+1]\n",
        "\n",
        "  A[cpy_p:r+1] = arr_B                             # Copiar contenidos en dentro de rango\n",
        "  \n",
        "  return arr_B , c"
      ],
      "metadata": {
        "id": "9wDATEB8UbnH"
      },
      "execution_count": 2,
      "outputs": []
    },
    {
      "cell_type": "markdown",
      "source": [
        "La función:\n",
        "> Crea el arreglo $B$\n",
        "\n",
        "> Recorre los sub-arreglos $A[p..q]$ y $A[q+1..r]$ a través de movimientos de índices, guardando los valores iniciales de $p$ y $q$ para futuras operaciones. El recorrido consiste en mover índices hasta que el límite inferior del arreglo sea igual al superior en alguno de los dos, significando que quedan $0$ elementos a comparar.\n",
        ">\n",
        ">Los valores de p y r dependerán de la llamada a la función en la que nos encontremos. Por ejemplo, en la primera llamada *(situación no recursiva)* los valores serían $0$ y $len(A)$, mientras que $q$ corresponde al elemento medio entre $p$ y $r$, $q = int(p+r/2)$\n",
        "\n",
        "> Por cada iteración, inserta un elemento en B, correspondiente al menor *(o igual)* entre $A[p]$ y $A[q]$. Se avanza el índice correspondiente.\n",
        "\n",
        "> Sea alguno de los índices igual a su límite superior, nos encontramos con un arreglo vacío. Se termina el recorrido y se insertan los elementos sobrantes de la contraparte al final de $B$.\n",
        "\n",
        ">Para  finalizar, se sobreescribe el arreglo ordenado $B$ en $A$, teniendo cuidado de respetar el rango del arreglo $[p..r]$\n",
        "\n",
        "La función retorna el arreglo $B$ ordenado y $c$, correspondiente al total de comparaciones realizadas."
      ],
      "metadata": {
        "id": "FAyWhBghi0DZ"
      }
    },
    {
      "cell_type": "markdown",
      "source": [
        "## **Implementación MergeSort**\n",
        "Esta implementación del algoritmo `MergeSort` es capaz de recibir 7 parámetros en teoría. Sin embargo, las variables $c$, $steps$ e $i$ son principalmente para controlar ciertos valores en las llamadas recursivas de la función y su función será descrita más adelante.\n",
        "\n",
        "Con esto en mente, esta implementación de `MergeSort` recibe cuatro parámetros:\n",
        "> El arreglo $A$, que contiene los $n$ elementos a ordenar.\n",
        "\n",
        "> Los índices $p$ y $r$, que corresponden a los límites inferior y superior del arreglo *(o sub-arreglo)* que se desea ordenar en la llamda actual de la función.\n",
        "\n",
        "> El booleano $verbose$, que indica si el usuario desea ver la ejecución de la  función paso por paso.\n",
        "\n",
        "Los otros tres parámetros, a pesar de no ser realmente utilizables al realizar la llamada original a la función, son:\n",
        "\n",
        "> El entero $c$, correspondiente a un contador de comparaciones.\n",
        "\n",
        "> El entero $i$, correspondiente al 'nivel' de cierta operación. Este nivel se refiere a la altura que estaría cierto paso en su representación como árbol binario.\n",
        "\n",
        "> El entero $steps$, que sirve como registro de los pasos que se realizan dentro del algoritmo.\n"
      ],
      "metadata": {
        "id": "bO5AAwoC3Y0R"
      }
    },
    {
      "cell_type": "code",
      "source": [
        "def MergeSort(A, p, r, c = 0, i = 1, steps = 0, verbose = False):\n",
        "   queue = []                    # Lista guarda información por iteración\n",
        "   queue.append((A[p:r+1], i, steps)) \n",
        "   \n",
        "\n",
        "   if p==r: return c, queue      # Verifica que el arreglo tenga un solo elemento \n",
        " \n",
        "   q = int((p+r)/2)              # La mitad del arreglo\n",
        "   c_izq, q_izq = MergeSort(A,p,q,i=i+1, steps = queue[-1][2]+1 ,verbose = verbose)   # Ordenamiento de rama izquierda\n",
        "   \n",
        "   if verbose == True:\n",
        "     for j in q_izq:\n",
        "      queue.append(j)          \n",
        "\n",
        "   c_der, q_der = MergeSort(A,q+1,r,i=i+1,steps = queue[-1][2]+1 ,verbose = verbose)   # Ordenamiento rama derecha\n",
        "   if verbose == True:\n",
        "     for j in q_der:\n",
        "        queue.append(j)\n",
        "\n",
        "   b,c = Merge(A,p,q,r)             # Ordenamiento de ambas ramas\n",
        "   if verbose == True:\n",
        "     queue.append((b,f\"merge\",queue[-1][2]+1))\n",
        "   \n",
        "   c += c_izq+c_der\n",
        "\n",
        "   if i == 1 and verbose == True:\n",
        "     mrgs = 1\n",
        "     prev = -1\n",
        "     for i in queue:\n",
        "       if i[2] == 0 : \n",
        "         print(f\"Arreglo inicial: {i[0]}\\n\") \n",
        "         prev = i[1]\n",
        "         continue\n",
        "\n",
        "       print(f\"Paso {i[2]}\")\n",
        "       if i[1] == \"merge\": \n",
        "         print(f\"Se ha realizado el Merge nº{mrgs}!\")\n",
        "         print(f\"Arreglos ordenados y unidos:\")\n",
        "         \n",
        "         mrgs+=1\n",
        "       else:\n",
        "         print(\"Se ha dividido el arreglo!\")\n",
        "       print(i[0], \"\\n\")\n",
        "       \n",
        "       print(\"-------------------------------------\")\n",
        "\n",
        "     print()\n",
        "     print(f\"Total comparaciones: {c}\")\n",
        "     print(\"Arreglo ordenado!\")\n",
        "   \n",
        "   return c, queue"
      ],
      "metadata": {
        "id": "omPuRNI1gqEL"
      },
      "execution_count": 73,
      "outputs": []
    },
    {
      "cell_type": "code",
      "source": [
        "# Ejemplo\n",
        "from numpy.random import seed\n",
        "from numpy.random import randint\n",
        "\n",
        "seed(99)\n",
        "\n",
        "a = randint(0, 30, 7)\n",
        "a = a.tolist()\n",
        "\n",
        "print('imput', a)\n",
        "print(\"Total comparaciones :\",MergeSort(a ,0,len(a)-1)[0])\n",
        "print('output', a)"
      ],
      "metadata": {
        "colab": {
          "base_uri": "https://localhost:8080/"
        },
        "id": "ihy4jb-zwhS6",
        "outputId": "d5c33952-54e0-46fd-9f77-4ff8826cbe79"
      },
      "execution_count": 4,
      "outputs": [
        {
          "output_type": "stream",
          "name": "stdout",
          "text": [
            "imput [1, 3, 25, 8, 9, 8, 18]\n",
            "Total comparaciones : 13\n",
            "output [1, 3, 8, 8, 9, 18, 25]\n"
          ]
        }
      ]
    },
    {
      "cell_type": "markdown",
      "source": [
        "###  Ejecución paso a paso `(verbose=True)`\n"
      ],
      "metadata": {
        "id": "2CWlknUXP_BP"
      }
    },
    {
      "cell_type": "code",
      "source": [
        "a = [9,0,1,3,7]\n",
        "c, qu = MergeSort(a ,0,len(a)-1, verbose=True)"
      ],
      "metadata": {
        "colab": {
          "base_uri": "https://localhost:8080/"
        },
        "id": "Mc0DfvgbvnyP",
        "outputId": "2f57d307-dd55-404b-a236-e0f3b73b0cb4"
      },
      "execution_count": 74,
      "outputs": [
        {
          "output_type": "stream",
          "name": "stdout",
          "text": [
            "Arreglo inicial: [9, 0, 1, 3, 7]\n",
            "\n",
            "Paso 1\n",
            "Se ha dividido el arreglo!\n",
            "[9, 0, 1] \n",
            "\n",
            "-------------------------------------\n",
            "Paso 2\n",
            "Se ha dividido el arreglo!\n",
            "[9, 0] \n",
            "\n",
            "-------------------------------------\n",
            "Paso 3\n",
            "Se ha dividido el arreglo!\n",
            "[9] \n",
            "\n",
            "-------------------------------------\n",
            "Paso 4\n",
            "Se ha dividido el arreglo!\n",
            "[0] \n",
            "\n",
            "-------------------------------------\n",
            "Paso 5\n",
            "Se ha realizado el Merge nº1!\n",
            "Arreglos ordenados y unidos:\n",
            "[0, 9] \n",
            "\n",
            "-------------------------------------\n",
            "Paso 6\n",
            "Se ha dividido el arreglo!\n",
            "[1] \n",
            "\n",
            "-------------------------------------\n",
            "Paso 7\n",
            "Se ha realizado el Merge nº2!\n",
            "Arreglos ordenados y unidos:\n",
            "[0, 1, 9] \n",
            "\n",
            "-------------------------------------\n",
            "Paso 8\n",
            "Se ha dividido el arreglo!\n",
            "[3, 7] \n",
            "\n",
            "-------------------------------------\n",
            "Paso 9\n",
            "Se ha dividido el arreglo!\n",
            "[3] \n",
            "\n",
            "-------------------------------------\n",
            "Paso 10\n",
            "Se ha dividido el arreglo!\n",
            "[7] \n",
            "\n",
            "-------------------------------------\n",
            "Paso 11\n",
            "Se ha realizado el Merge nº3!\n",
            "Arreglos ordenados y unidos:\n",
            "[3, 7] \n",
            "\n",
            "-------------------------------------\n",
            "Paso 12\n",
            "Se ha realizado el Merge nº4!\n",
            "Arreglos ordenados y unidos:\n",
            "[0, 1, 3, 7, 9] \n",
            "\n",
            "-------------------------------------\n",
            "\n",
            "Total comparaciones: 8\n",
            "Arreglo ordenado!\n"
          ]
        }
      ]
    },
    {
      "cell_type": "markdown",
      "source": [
        "#### ***Anotaciones***\n",
        "\n",
        "La implementación actual solo es capaz de manejar listas de números. Esto se debe a las pequeñas diferencias a la hora de manipular listas, arreglos y arreglos numpy, por nombrar un ejemplo.\n",
        "\n",
        "Se necesitará adaptar el algoritmo o bien preocuparse de solo ingresar listas a la función MergeSort.\n"
      ],
      "metadata": {
        "id": "Lqy3T7vLGEFp"
      }
    },
    {
      "cell_type": "markdown",
      "source": [
        "## **Correctitud del algoritmo**"
      ],
      "metadata": {
        "id": "HIlforilR7d7"
      }
    },
    {
      "cell_type": "markdown",
      "source": [
        "### **Correctitud para Merge**\n",
        "#### ***Teorema:***\n",
        "Merge recibe dos arreglos ordenados $A_1$ y $A_2$, retornando al finalizar un arreglo $B$ que contiene todos los elementos de $A_1 \\cup A_2$ de forma que $b_1 ≤ b_2 ≤... b_n$\n",
        "\n",
        "#### ***Propiedad invariable de bucle para Merge:***\n",
        "Para cada iteración dentro de la función *Merge*, los arreglos $B$, $A_1$, y $A_2$ se encuentran siempre ordenados, siendo los valores en $A_1$ y $A_2$ siempre menores a aquellos en $B$\n",
        "\n",
        "##### **Inicialización:**\n",
        "Antes de iniciar la primera iteración, se cumple con ambas condiciones\n",
        "\n",
        "1. Al estar $B$ vacío y asumiendo que $A_1$ y $A_2$ se encuentran ordenados al entrar a la función, se concluye que los tres arreglos se encuentran ordenados al inicio del bucle.\n",
        "\n",
        "2. Nuevamente, al encontrarse $B$ vacío todos los valores de $A_1 \\cup A_2$ son trivialmente mayores.\n",
        "\n",
        "##### **Mantención:**\n",
        "Para cualquier iteración $i$ del bucle, se comparará y se eliminará el elemento más pequeño de $A_1 \\cup A_2$, insertándose en $B$. Esto mantiene la idea de que $B$ siempre contendrá elementos menores a aquellos en  $A_1 \\cup A_2$. \n",
        "\n",
        "Además, al realizarse las comparaciones en arreglos ordenados, se verifica que el elemento $B[i+1]$ va a ser mayor que $B[i]$, pues será el $i+1$-ésimo más pequeño del conjunto $A_1 \\cup A_2$, manteniendo el orden propuesto.\n",
        "\n",
        "Por último, siempre y  que no se realicen inserciones de valores, un arreglo ordenado se mantendrá así sin importar qué elementos se eliminen de el.\n",
        "\n",
        "#### **Correctitud**\n",
        "Como la propiedad se mantiene al inicio y final de la  i -ésima iteración, se puede concluir que cuando se termine de realizar la última iteración del bloque *($A_1$ o $A_2$ no poseen más elementos comparables y se han insertado los sobrantes)*, el arreglo $B$ contendrá la totalidad de los elementos ordenados del conjunto $A_1 \\cup A_2$, encontrándose estos ordenados trivialmente al tener $0$ elementos que comparar y cumpliendo con el teorema  propuesto.\n",
        "\n",
        "\n"
      ],
      "metadata": {
        "id": "pDcJlv5Dmknq"
      }
    },
    {
      "cell_type": "markdown",
      "source": [
        "### **Correctitud para MergeSort**\n",
        "#### **Hipótesis:**\n",
        "*MergeSort* recibe un arreglo $A$ de $n$ elementos, retornando el arreglo ordenado de forma que $a_1 ≤ a_2 ≤... a_n$\n",
        "\n",
        "#### ***Caso base***\n",
        "Para el caso base $n=1$, se cumple la declaración pues al ser un elemento único se encuentra trivialmente ordenado.\n",
        "\n",
        "#### ***Paso inductivo***\n",
        "Para un arreglo de $n$ elementos, al realizar la llamada de MergeSort y dividir el problema  de forma recursiva, se llegará a sub-arreglos de $A$ con elementos únicos *($len=1$)*. \n",
        "\n",
        "Según el Teorema anterior, *Merge* siempre retornará arreglos ordenados a partir de los sub-arreglos entregados como parámetros, por lo que se puede concluir que al finalizar cualquier llamada de MergeSort, para un $m < n$ , tendremos un arreglo ordenado. Esto implica que cuando eventualmente se realice el *Merge* para  $m_1=\\lfloor \\frac{n}{2}\\rfloor$ y  $m_2=\\lfloor \\frac{n}{2}\\rfloor$, se terminará con un arreglo ordenado de $n$ elementos.\n",
        "\n",
        "Por lo tanto *MergeSort* es correcto"
      ],
      "metadata": {
        "id": "SNl2m-ttmrDN"
      }
    },
    {
      "cell_type": "markdown",
      "source": [
        "## **Tiempo de ejecución**\n",
        "El algoritmo *MergeSort* divide un arreglo en 2 sub-arreglos de tamaño $n/2$ recursivamente, lo que corresponde a $2 \\cdot T(n/2)$. Además, por cada llamada a la función se le agrega el tiempo que cuesta dividir el problema y el coste de la función *Merge*.\n",
        "\n",
        "*Merge* tiene un tiempo de ejecución lineal pues recorre una sola vez los arreglos a ordenar, correspondiendo a un tiempo de ejecución de $O(n)$\n",
        "\n",
        "La división del arreglo es constante, $O(n)$.\n",
        "\n",
        "Por último, para el caso base donde $n = 1$, el tiempo de ejecución será $0(1)$ puesto a que el arreglo inicial se encontraría trivialmente ordenado.\n",
        "\n",
        "Así, finalizamos con la siguiente ecuación:\n",
        "\n",
        "$T(n) =\\begin{cases}\n",
        "  O(1)  & n = 1 \\\\\n",
        "  2 T(n/2) + O(n) + O(1) & \\text{ otherwise}\n",
        "\\end{cases}$\n",
        "\n",
        "la cual se puede simplificar a\n",
        "\n",
        "$T(n) = \\begin{cases}\n",
        "  O(1)  & n = 1 \\\\\n",
        "  2 T(n/2) + O(n) & \\text{ otherwise}\n",
        "\\end{cases}$"
      ],
      "metadata": {
        "id": "SMFbDI7QSA33"
      }
    },
    {
      "cell_type": "markdown",
      "source": [
        "## **Experimentación**"
      ],
      "metadata": {
        "id": "K646SJdUH8YX"
      }
    },
    {
      "cell_type": "markdown",
      "source": [
        "### **Número de comparaciones**"
      ],
      "metadata": {
        "id": "BnLSGUz1Q60I"
      }
    },
    {
      "cell_type": "code",
      "source": [
        "#comparar el número de comparaciones realizadas experimentalmente con el mejor y peor caso teóricos.\n",
        "import matplotlib.pyplot as plt\n",
        "import seaborn as sns\n",
        "from math import log2\n",
        "import random\n",
        "\n",
        "%matplotlib inline\n",
        "\n",
        "sns.set(context='notebook', style='dark', palette='dark')\n",
        "\n",
        "x=[n for n in range(5,400)] \n",
        "y1=[n*log2(n) for n in range(5,400)] # worst case\n",
        "y2=[n*log2(n) for n in range(5,400)] # best case\n",
        "y=[]; \n",
        "\n",
        "for n in range(5,400):\n",
        "  a = random.sample(range(1, 400), n)\n",
        "  counter, qu = MergeSort(a,0,len(a)-1)\n",
        "  y.append(counter)\n",
        "\n",
        "plt.plot(x,y)\n",
        "plt.plot(x,y1)\n",
        "plt.plot(x,y2)\n",
        "plt.legend([\"MergeSort\", \"theoretical worst case\", \"theoretical best case\"])\n",
        "\n",
        "plt.xlabel('n')\n",
        "plt.ylabel('number of comparisons')\n",
        "plt.show()"
      ],
      "metadata": {
        "id": "BXZWnqQIRB0y",
        "colab": {
          "base_uri": "https://localhost:8080/",
          "height": 285
        },
        "outputId": "d7a744c6-b409-4f10-e802-b1b8a9dabff2"
      },
      "execution_count": 76,
      "outputs": [
        {
          "output_type": "display_data",
          "data": {
            "text/plain": [
              "<Figure size 432x288 with 1 Axes>"
            ],
            "image/png": "[encoded data removed]"
          },
          "metadata": {}
        }
      ]
    },
    {
      "cell_type": "markdown",
      "source": [
        "### Conclusión\n",
        "Se ha asumido que el mejor y peor caso de ***comparaciones*** es de $n⋅log(n)$. Sin embargo, se nota claramente en el gráfico que este análisis es érroneo pues el algoritmo no debería ser capaz de sobrepasar el límite inferior como se muestra aquí.\n"
      ],
      "metadata": {
        "id": "h14bzJf5TJLg"
      }
    },
    {
      "cell_type": "markdown",
      "source": [
        "### MergeSort vs InsertionSort"
      ],
      "metadata": {
        "id": "5GJ6USBGRLy-"
      }
    },
    {
      "cell_type": "markdown",
      "source": [
        "### **Tiempo de ejecución**\n"
      ],
      "metadata": {
        "id": "9KEdlbQGWpFv"
      }
    },
    {
      "cell_type": "code",
      "source": [
        "import numpy as np\n",
        "from termcolor import colored\n",
        "\n",
        "def insertion_sort(a, verbose = False):\n",
        "  n = len(a)        # Tamaño del arreglo a ordenar\n",
        "  c = 0             # Número de comparaciones\n",
        "\n",
        "  if verbose == True:\n",
        "    print(\"imput array :\", a, \"\\n\")\n",
        "\n",
        "  for i in range(1, n):\n",
        "    key = a[i]\n",
        "    is_zero = False # Auxiliar para la empresión en caso de que verbose = True\n",
        "\n",
        "    if verbose == True: \n",
        "      print(\"Pasada \", i, \", \",colored(f\"key : {key}\", \"red\", attrs=[\"bold\"]) )\n",
        "    \n",
        "    for k in range(i-1, -1, -1):\n",
        "      c+= 1\n",
        "\n",
        "      if verbose == True: \n",
        "        # Destacar valor con el que se comparara key\n",
        "        if k > 0: print(\" \",end = \"\")\n",
        "        if k == i-1:\n",
        "          print(\"  \", str(a[:k])[1:-1], colored(f\"{str(a[k:k+1])[1:-1]}\", \"blue\", attrs=['bold']),\n",
        "                colored(f\"{str(a[k+1:k+2])[1:-1]}\", \"red\", attrs=['bold']), str(a[k+2:])[1:-1])\n",
        "        else:\n",
        "          print(\"  \", str(a[:k])[1:-1], colored(f\"{str(a[k:k+1])[1:-1]}\",  \"blue\", attrs=['bold']), str(a[k+1:])[1:-1])\n",
        "\n",
        "      # Inserción de clave en la posición correspondiente \n",
        "      if a[k] < key:\n",
        "        a[k+1] = key\n",
        "        break\n",
        "\n",
        "      # Movimiento de elemento k una posición a la izquierda\n",
        "      a[k+1] = a[k]\n",
        "\n",
        "      if verbose == True:\n",
        "        if k > 0: print(\" \",end = \"\")\n",
        "        print(\"  \", str(a[:k])[1:-1], colored(f\"{str(a[k:k+2])[1:-1]}\", \"green\", attrs=['bold']), str(a[k+2:])[1:-1])\n",
        "    \n",
        "    # Insercion de clave en caso especial\n",
        "    if key < a[0]: \n",
        "      a[0] = key\n",
        "      is_zero = True\n",
        "\n",
        "    if verbose == True:\n",
        "\n",
        "      if is_zero:\n",
        "        print(colored(f\"\\n{str(a[0])[1:-1]}\", \"red\", attrs=['bold']), str(a[1:])[1:-1])\n",
        "        print(f\"{key} ha finalizado en la posición {0}\\n\")\n",
        "      else:\n",
        "        print(\"\\n\", str(a[:k+1])[1:-1], colored(f\"{str(a[k+1:k+2])[1:-1]}\",\"red\", attrs=['bold']), str(a[k+2:])[1:-1])\n",
        "        print(f\" {key} ha finalizado en la posición {k+1}\\n\")\n",
        "\n",
        "  \n",
        "  if verbose == True:\n",
        "    print(\"Arreglo ordenado !\")\n",
        "    print(f\"output array:: {a}\")\n",
        "  \n",
        "  return a, c"
      ],
      "metadata": {
        "id": "pzO5BvVeYEJI"
      },
      "execution_count": 80,
      "outputs": []
    },
    {
      "cell_type": "code",
      "source": [
        "import matplotlib.pyplot as plt\n",
        "import seaborn as sns\n",
        "import datetime\n",
        "from timeit import repeat\n",
        "\n",
        "%matplotlib inline\n",
        "\n",
        "sns.set(context='notebook', style='darkgrid', palette='dark')\n",
        "\n",
        "x=[]; x2 =[]\n",
        "y=[]; y2=[]\n",
        "\n",
        "for n in range(5,400):\n",
        "\n",
        "  a = random.sample(range(1, 1000), n)\n",
        "  t = repeat(setup=\"from __main__ import MergeSort\", stmt=f\"MergeSort({a},{0},{len(a)-1})\", repeat=1, number=10)\n",
        "\n",
        "  x.append(n)\n",
        "  y.append(t)\n",
        "\n",
        "for n in range(5,400):\n",
        "\n",
        "  a = random.sample(range(1, 1000), n)\n",
        "  t = repeat(setup=\"from __main__ import insertion_sort\", stmt=f\"insertion_sort({a})\", repeat=1, number=10)\n",
        "\n",
        "  x2.append(n)\n",
        "  y2.append(t)\n",
        "\n",
        "plt.plot(x,y)\n",
        "plt.plot(x2,y2)\n",
        "plt.legend([\"MergeSort\", \"InsertionSort\"])\n",
        "\n",
        "plt.xlabel('n')\n",
        "plt.ylabel('time in ms')\n",
        "plt.show()"
      ],
      "metadata": {
        "colab": {
          "base_uri": "https://localhost:8080/",
          "height": 285
        },
        "id": "3kKmewoBRTJV",
        "outputId": "76029fb2-6dbe-4c8a-ff8f-8293cf33945a"
      },
      "execution_count": 86,
      "outputs": [
        {
          "output_type": "display_data",
          "data": {
            "text/plain": [
              "<Figure size 432x288 with 1 Axes>"
            ],
            "image/png": "[encoded data removed]"
          },
          "metadata": {}
        }
      ]
    },
    {
      "cell_type": "markdown",
      "source": [
        "Se observa claramente la diferencia entre tiempos de ejecución de ambos algoritmos, dejando en claro cual es la opción óptima en cuanto a análisis temporal. \n",
        "\n",
        "Diría que siempre y cuando el tamaño del arreglo sea superior a los 100 o 150 elementos, no vale la pena siquira considerar el algoritmo InsertionSort.\n",
        "\n",
        "Sin embargo, no estaría demás analizar de alguna forma la cantidad de memoria utilizada por ambos algoritmos en su ejecución, pues entregaría información vital a la hora de evaluar cual de los dos conviene más según la situación."
      ],
      "metadata": {
        "id": "_zYo3F0zZCfn"
      }
    }
  ]
}