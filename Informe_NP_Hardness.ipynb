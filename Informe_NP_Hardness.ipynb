{
  "nbformat": 4,
  "nbformat_minor": 0,
  "metadata": {
    "colab": {
      "provenance": [],
      "toc_visible": true,
      "authorship_tag": "ABX9TyPsGQAv6hPV6UfOV1uKYsWl",
      "include_colab_link": true
    },
    "kernelspec": {
      "name": "python3",
      "display_name": "Python 3"
    },
    "language_info": {
      "name": "python"
    }
  },
  "cells": [
    {
      "cell_type": "markdown",
      "metadata": {
        "id": "view-in-github",
        "colab_type": "text"
      },
      "source": [
        "<a href=\"https://colab.research.google.com/github/AlexandraJMV/ADA-Informes/blob/main/Informe_NP_Hardness.ipynb\" target=\"_parent\"><img src=\"https://colab.research.google.com/assets/colab-badge.svg\" alt=\"Open In Colab\"/></a>"
      ]
    },
    {
      "cell_type": "markdown",
      "source": [
        "# Informe 13 : Título del informe\n",
        "\n",
        "\n"
      ],
      "metadata": {
        "id": "VSGN-qUklo-c"
      }
    },
    {
      "cell_type": "markdown",
      "source": [
        "## ¿Qué quiere decir que un problema sea **NP-Hard**?\n",
        "\n",
        "Asumiendo que la conjetura **P $\\neq$ NP** es correcta, se puede llamar a un problema **NP-Hard** si este no puede ser resuelto por algún algoritmo en un tiempo de ejecución razonable, es decir, cuyo tiempo que esté acotado por algún término polinomial.\n",
        "\n",
        "Formalmente, un problema $A$ es **NP-Hard** si cada problema **NP** se reduce a él, teniendo que $A$ es al menos tan dificil como todo problema en **NP**\n",
        "\n",
        "<br>\n",
        "\n",
        "---\n",
        "\n",
        "<br>\n",
        "\n",
        "\n",
        "\n",
        "\n",
        "\n",
        "\n",
        "\n",
        "\n",
        "\n"
      ],
      "metadata": {
        "id": "RYzeIxPfm0J0"
      }
    },
    {
      "cell_type": "markdown",
      "source": [
        "## ¿Qué quiere decir que **P $\\neq$ NP** ?\n",
        "\n",
        "**P $\\neq$ NP** es una conjetura, es decir, algo que se cree verdadero pero aún no ha sido probado con certeza.\n",
        "\n",
        "\n",
        "### ¿Que significa que un problema sea **P** o **NP**?\n",
        "\n",
        "Que un problema pertenezca a la comlejidad **NP** implica que:\n",
        "* Para cualquier candidato a solución, es posible verificar o refutar si esta es correcta en tiempo polinomial en función al tamaño de entrada\n",
        "\n",
        "Mientras que **P** :\n",
        "\n",
        "* Un problema computacional pertenece a la clase **P** si $\\in$ **NP** y puede ser resuelto por un algoritmo con un tiempo de ejecución polinomial en función al tamaño de entrada\n",
        "\n",
        "\n",
        "Esto quiere decir que **P** es una subcase de **NP**, más no todo problema del tipo **NP** será necesariamente posible de resolver en tiempo polinomial. Si llegase a ser cierto que **P $=$ NP**, implicaría que todo problema **NP** puede ser resuelto en tiempo razonable.\n",
        "\n",
        "<center>\n",
        "\n",
        "<img src='https://upload.wikimedia.org/wikipedia/commons/thumb/6/66/P_np_np-completo_np-hard.svg/1200px-P_np_np-completo_np-hard.svg.png'>\n",
        "\n",
        "</center>\n",
        "\n",
        "<br>\n",
        "\n",
        "---\n",
        "\n",
        "<br>\n"
      ],
      "metadata": {
        "id": "ptxR_u3mVoJC"
      }
    },
    {
      "cell_type": "markdown",
      "source": [
        "## ¿Cómo se prueba que un problema es **P-Hard** usando reducciones?\n",
        "\n",
        "Cualquier problema $B$ que es al menos tan difícil como un problema **NP-Hard** $A$ es también **NP-Hard**.\n",
        "\n",
        "<center>\n",
        "\n",
        "*Reducción*\n",
        "\n",
        "</center>\n",
        "\n",
        " Cualquier problema $A$ se reduce a otro problema $B$ si un algoritmo que resuelve a $B$ puede ser transformado en otro que resuelve a $A$. Esta transformación se refiere a que $A$ puede ser resuelto usando una cantidad polinomial de llamadas a una subrutina que resuelve al problema $B$, además del trabajo adicional.\n",
        "\n",
        "\n",
        "<img src='https://i.imgur.com/fQcjKgp.png'>\n",
        "\n",
        "Además, si un problema $A$ se puede reducir a un problema $B$ y $B$ es resuelto en un tiempo polinomial, entonces $A$ también. \n",
        "\n",
        "<img src='https://i.imgur.com/ISSYWYD.png'>\n",
        "\n",
        "Esta observación se puede utilizar para comprobar que un problema es del tipo **NP-Hard**\n",
        "\n",
        "Sea un problema $A$ reducible a otro problema $B$ y sea $A$ **NP-Hard**. Suponiendo que la conjetura **P $\\neq$ NP** es cierta, esto implica que $B$ también debe ser **NP-Hard**. Si no fuese así, significaría que $B$ puede ser resuelto en tiempo polinomial y, como $A$ es reducicle a $B$, que $A$ también puede ser resuelto en tiempo polinomial, significando **P $=$ NP**\n",
        "\n",
        "<img src='https://i.imgur.com/yRnRHpT.png'>\n",
        "\n",
        "Lo que resulta en la siguiente forma de probar que un problema es **NP-Hard** :\n",
        "\n",
        "1. Elegir un problema $A$ del tipo **NP-Hard**\n",
        "\n",
        "2. Probar que $A$ se reduce a $B$\n",
        "\n",
        "<br>\n",
        "\n",
        "---\n",
        "\n",
        "<br>\n",
        "\n"
      ],
      "metadata": {
        "id": "H1twR5m9tCID"
      }
    },
    {
      "cell_type": "markdown",
      "source": [
        "## 2. Problemas **NP-Hard** propuestos\n",
        "\n",
        "\n",
        "\n",
        "\n"
      ],
      "metadata": {
        "id": "p2Kpb3ozgdyi"
      }
    },
    {
      "cell_type": "markdown",
      "source": [
        "### a) **Subset sum**\n",
        "\n",
        "#### Descripción del problema: \n",
        "\n",
        "---\n",
        "\n",
        "<br>\n",
        "\n",
        ">**Entrada** : Una serie de números positivos $a_i = [a_1, a_2,..., a_n]$ más un número $t$\n",
        ">\n",
        ">**Salida** : Un subconjunto de $a_i$ con una suma total de valor $t$ o, en caso de que no exista, un mensaje correspondiente\n",
        "\n",
        "Este problema se encarga de determinar si existe un subconjunto de un conjunto que, al sumar cada término, sume una cantidad $t$ dada.\n",
        "\n",
        "Por ejemplo, para el comjunto $a_i = [1,2,3,4,5]$ y $t = 9$ tenemos $3$ subconjuntos que sumen $9$ : $[5,4]$, $[5,3,1]$, $[4,3,2]$. Mientras que para $t=20$ no hay solución.\n",
        "\n",
        "Se nota que para un conjunto de $n$ elementos, hay un total de $2^n-1$ posibles subconjuntos que deberían ser considerados a la hora de buscar sus soluciones. Esto dado a que por cada elemento $n_i$ del conjunto, tenemos la opción de agregarlo o no\n",
        "\n",
        "<img src='https://i2.wp.com/www.gohired.in/wp-content/uploads/2018/01/ss_example.jpg'>\n",
        "\n",
        "<br>\n",
        "\n",
        "---"
      ],
      "metadata": {
        "id": "Uyp-vY_eD0_D"
      }
    },
    {
      "cell_type": "markdown",
      "source": [
        "### **Prueba de NP-Hardness**\n",
        "\n",
        "#### **Teorema 1 (NP-Hardess de Subset Sum):** \n",
        "El problema *Subset Sum* es *NP-Hard*\n",
        "\n",
        "<br>\n",
        "\n",
        "Para probar que este problema pertenece al grupo **NP-Hard** es necesario escoger algún otro problema $A$ y demostrar que $A$ se reduce a nuestro problema objetivo\n",
        "\n",
        "<img src='https://i.imgur.com/7VSCkae.png'>\n",
        "\n",
        "siendo $B$ el problema que queremos demostrar es **NP-Hard**\n",
        "\n",
        "Para esta ocasión se utilizará uno de los problemas mostrados en la unidad $14$, `Conjunto independiente máximo`. Se sabe que este problema es **NP-Hard**\n",
        "\n",
        "<br>\n"
      ],
      "metadata": {
        "id": "cxLtcfbLTGls"
      }
    },
    {
      "cell_type": "markdown",
      "source": [
        "#### **a.1) Selección del problema $A$**\n",
        "\n",
        "*Descripción del problema : `Conjunto Independiente Máximo (CIM)`*\n",
        "\n",
        "<center>\n",
        "\n",
        "<img src='https://i.imgur.com/Ti4fcSy.png'>\n",
        "\n",
        "</center>\n",
        "\n",
        ">***Entrada***: Grafo no dirigido $G=(V,E)$ con $V$ vértices y $E$ arcos\n",
        ">\n",
        ">***Salida***: Conjunto independiente con un cantidad máxima de nodos\n",
        "\n",
        "Siendo un conjunto independiente aquel en el cual sus nodos no son adjacentes a ningún otro, es decir, no se encuentran conectados a ningún otro nodo por un arco. Al ser máximo, este conjunto independiente tampoco puede ser un subconjunto de ningún otro\n",
        "\n",
        "<img src='https://upload.wikimedia.org/wikipedia/commons/thumb/7/72/Mis_stargraph_s8.png/1280px-Mis_stargraph_s8.png'>\n",
        "\n",
        "En la imagen de arriba se muetran dos posibles conjuntos independientes. Sin embargo, solamente el conjunto de la derecha es un conjunto independiente máximo.\n",
        "\n",
        "Este es un problema de optimización\n",
        "<br>\n",
        "\n",
        "---\n",
        "\n",
        "<br>\n",
        "\n",
        "Recordemos que el problema $B$ será aquel que queremos demostrar **NP-Hardness**, *Subset Sum*\n",
        "\n",
        "Como se mencionó anteriormente y se demostró en unidad $14$, este problema pertenece al grupo **NP-Hard**"
      ],
      "metadata": {
        "id": "i-mT7lBEZLp-"
      }
    },
    {
      "cell_type": "markdown",
      "source": [
        "#### **a.2) Reducción**\n",
        "\n",
        "\n",
        "En primer lugar, tenemos que demostrar que el problema `CIM` se puede reducir a `subset sum`. \n",
        "\n",
        "Para realizar esta reducción se debe realizar un preprocesamiento de los datos, que transforme una entrada válida para `CIM` a una para el problema 'subset sum'. Luego, llamar a `subset sum` como subproceso y, para finalizar, transformar la salida del subproceso en una salida válida para el problema original *(`CIM`)*\n",
        "\n",
        "<img src='https://i.imgur.com/L6yMMud.png'>\n",
        "\n",
        "#### **Lema 1**\n",
        "\n",
        "El problema del `Conjunto independiente máximo (CIM)` se reduce a `Subset sum`\n",
        "\n",
        "#### **Prueba**\n",
        "\n",
        "La idea de esta reducción es codificar *(por medio del preprocesador)* cada vértice del grafo para que entregue información sobre sus arcos adyacentes de forma que, al intentar sumarlos, indique si ciertos vértices $v_i + v_j$ son adyacentes\n",
        "\n",
        "Esta transformación permite transformar la entrada para el problema `Conjunto independiente máximo` en una para `Subset sum`. Sin embargo, aún falta definir una suma objetivo $t$ para este último problema.\n",
        "\n",
        "Para entender mejor las tranformaciones del preprocesador, se mira el siguiente ejemplo :\n",
        "\n",
        "<center>\n",
        "\n",
        "<img src='https://i.imgur.com/AQGNbhp.png'>\n",
        "\n",
        "<img src='https://i.imgur.com/RUtxJvr.png'>\n",
        "\n",
        "</center>\n",
        "\n",
        "En la tabla bajo el grafo se pueden apreciar las codificaciones de cada vértice y arco dentro del grafo. La información que se puede extraer del vértice $v_1 = 110,001$ es la siguiente :\n",
        "\n",
        "* El vértice es adjacente a los arcos $e_1$ y $e_5$, ya que son aquellas posiciones que se encuentran con un $1$\n",
        "* $v_1$ es adjacente con $v_2$ y $v_5$, lo que es verificacle a través de la suma de sus codificaciones. $v_1 + v_2 = 110,001 + 111,000 = 221,001$ y $v_1 + v_5 = 110,001 + 100,011 = 210,012$. Se nota que cuando dos nodos son adjacentes comparten arco, lo que resulta en un dígito superior a uno al sumar las codificaciones *(sin considerar el primer dígito, que guarda un registro de los nodos considerados)*. \n",
        "* Cualquier otra suma de vértices debe resultar en $= 211,111$, sumando además la cantidad correspondiente a el o los arcos que no conecten ninguno de los nodos considerados.\n",
        "\n",
        "Ya que no se sabe exactamente el valor de $k$, que corresponde a la cantidad de vértices en un conjunto independiente, se va iterando por cada valor posible de $k = n, n-1,... 2, 1$. Es decir, en la primera iteración se considera un subconjunto con todos los nodos, lo que va disminuyendo con cada iteración. Este valor $k$ también determinará el valor $t$ esperado para el subproceso de `Subset sum`.\n",
        "\n",
        "Si, para una instancia $k$ no se encuentra un conjunto máximo con a lo menos $k$ elementos, entonces no existirá un `subset sum` con un total $t$ *(en función de $k$)*\n",
        "\n",
        "A detalle, la reducción funciona de la siguiente forma : \n",
        "\n",
        "\n",
        "\n",
        "\n"
      ],
      "metadata": {
        "id": "dw5vetEoY3ba"
      }
    },
    {
      "cell_type": "markdown",
      "source": [
        "#### **a.3) Algoritmo con reducción**\n",
        "\n",
        ">**Preprocesador**: Dado un grafo no dirigido $G=(V,E)$ con vertices $V=[v_1,v_2,...,v_n]$ y arcos $E = [e_1,e_2,...,e_m]$  y un valor esperado $k$, el preprocesador construirá $n+m+1$ enteros positivos que definen una instancia del problema `Subset sum`\n",
        "* Por cada vértice $v_i$, se define un número $a_i = 10^m + \\sum_{e_j \\in A_i} 10^{m-j}$, donde $A_i$ denota los arcos que llegan a $v_i$. Es decir, el primer dígito es un $1$ y luego se este puede tener $1$s si el arco $e_j$ alcanza a $v_i$, o $0$ en lo contrario\n",
        ">\n",
        ">* Por cada arco $e_j$, se define un número $b_j = 10^{m-j}$ \n",
        ">\n",
        ">* Se define el valr esperado $t = k\\cdot 10^{m} + \\sum_{j=1}^{m} 10^{m-j}$. Este valor corresponde a los dígitos de $k$ seguidos por $m$ $1$s\n",
        ">\n",
        ">**Postprocesador**: Si la subrutina calcula un subconjunto $[a_1,a_2,...,a_n,b_1,b_2,...,b_m]$ con una suma $t$, el postprocesador retorna los vértices $v_i$ que corresponden a los $a_i$ en el subconjunto. Si la subrutina entrega no respuesta, el postprocesador también.\n",
        ">\n",
        ">**Ciclo exterior**: El preprocesador y postprocesador buscan un conjunto independiente de un valor fijo $k$. Para calcular el conjunto independiente máximo de un grafo de entrada $G=(V,E)$ la reducción revisa todos los valores posibles de $k = n, n-1, n-2, ... 1$\n",
        ">\n",
        ">1. Se llama al preprocesador para transformar el grafo $G$ y el valor actual de $k$ en estradas válidas para el problema `Subset sum`\n",
        ">\n",
        ">2. Se llama a la subrutina para `Subset sum`\n",
        ">\n",
        ">3. Se llama al postprocesador en la salida de la subrutina. Si retorna un conjunto independiente $S$ de tamaño $k$, se detiene y retorna $S$\n",
        ">\n",
        "De esta forma, el algoritmo llama a la subrutina a lo más $n$ veces y realiza una cantidad polinomial de trabajo adicional dado el post y preprocesadores.\n",
        "\n",
        "#### **Correctitud**\n",
        "\n",
        "Esta reducción calcula correctamente, para alguna iteración $k$, si existe algún subconjunto de tamaño $k$. Al ir de la cantidad máxima posible *($n$)* y menor, este conjunto calculado será también el subconjunto máximo\n",
        "\n",
        "**Caso 1: No hat un conjunto idependiente de tamaño $k$**\n",
        "\n",
        "Supongamos que una iteración del ciclo ecterior falla en retornar 'no hay solución' para un grafo $G = (V,E)$ que no tiene un conjunto independiente de tamaño $k$. Esto sigifica que la subrutina retorna un conjunto $[a_1,a_2...,a_n, b_1, b_2,...b_m]$ de $N$ elementos. Sean $S ⊑ V$ los vértices que corresponden a $N$. Ya que el primer dígito de la suma objetivo $t$ corresponde a la cantidad de elementos en el conjunto calculado y coinciden con $k$, $N$ debe contener $k$ $a_i$, por lo tanto $S$ debe ser de tamaño $k$. $S$ debe ser un conjunto independiente de $G$\n",
        "\n",
        "**Caso 2: Hay al menos un conjunto independiente de tamaño $k$**\n",
        "\n",
        "Supongamos que el grafo de entrada $G=(V,E)$ tiene un conjunto independiente $S$ de tamaño $k$. La instancia de `subset sum` construida por el preprocesador debe tener un subgrupo con una suma objetivo $t$. Elegidos los $k$ $a_i$s correspondientes a los vértices de $S$ junto a los $b_j$ correspondientes  a los arcos. La subrutina considerada debe retornar un subgrupo N con una suma $t$. El postprocesador extrae los vértices desde $N$ y retorna el conjunto independiente de tamaño $k$\n",
        "\n",
        "\n",
        "\n",
        "\n",
        "\n",
        "\n",
        "\n"
      ],
      "metadata": {
        "id": "MDpAiCscePVt"
      }
    },
    {
      "cell_type": "markdown",
      "source": [
        "#### **a.4)Algoritmo que resuelve a $B$**\n",
        "\n",
        "El siguiente es un método recursivo para resolver el problema `Subset sum`\n",
        "\n",
        "Sea $t$ la suma objetivo y un total $n$ de elementos, se consideran dos casos :\n",
        "\n",
        "1. Considerando el último elemento (de valor $n_i$) la suma calculada ($ums$) será : $sum = t-n_i$ y la cantidad de elementos restantes será $n-1$. Esta suma calculada será el valor entregado a la siguiente llamada recursiva *(similar a la capacidad restante para agregar elementos)*\n",
        "\n",
        "2. Se 'deja' el último elemento, de forma que $sum = t$ y el total de elementos restantes es $n-1$\n",
        "\n",
        "Estas dos codiciones se encargan de revisar recursivamente las combinaciones posibles de elementos, revisando si pueden ser agregadas (No son mayores a la suma objetivo o no sobrepasan esta al ser agregados)\n",
        "\n",
        "Los casos base corresponden a aquellos en los cuales la suma objetivo o la cantidad de elementos son $0$. Si $sum = 0$ significa que se ha logrado encontrar un conjunto de elementos que cumpla con la suma. Si $n=0$, no han quedado elementos en el conjunto y no s eha enconyrado una solución\n",
        "\n",
        "El procedimiento es el siguiente :\n",
        "\n",
        "1. Se defienen los casos base\n",
        "2. Si el elemento es mayor que la suma, se ignora\n",
        "3. Se retorna la llamada recursiva a ambos casos.\n",
        "\n",
        "Al finalizar, el algoritmo retornará `True` si $sum = 0$ o `False` si $n=0$, determinanado correctamente si existe un subconjunto de elementos que sumen $t$\n",
        "\n",
        "\n",
        "\n",
        "\n",
        "\n"
      ],
      "metadata": {
        "id": "mo2HHoHhR_SZ"
      }
    },
    {
      "cell_type": "markdown",
      "source": [
        "### b) **Clique máximo**\n",
        "\n",
        "#### Descripción del problema: \n",
        "\n",
        "---\n",
        "\n",
        "<br>\n",
        "\n",
        ">**Entrada** : Dado un grafo no dirigido $G = (V,E)$ con $V$ vértices y $E$ arcos\n",
        ">\n",
        ">**Salida** : Un *clique* de $G$ con la mayor cantidad de elementos posibles\n",
        "\n",
        "Se define *clique* como un subconjunto de vértices de un grafo sin dirección de forma tal que cada par de vértices distintos en el *clique* son adjacentes.\n",
        "\n",
        "Este problema consiste en encontrar el conjunto de vértices que conforman el clique de mayor tamaño posible dentro del grafo $G$\n",
        "\n",
        "<center>\n",
        "\n",
        "<img src='https://upload.wikimedia.org/wikipedia/commons/thumb/d/d0/VR_complex.svg/450px-VR_complex.svg.png'>\n",
        "\n",
        "</center>\n",
        "\n",
        "Para nuestro problema $A$ utilizaremos nuevamente el problema del `Conjunto independiente' en su versión de desició\n",
        "\n",
        "\n",
        "<br>\n",
        "\n",
        "---\n",
        "\n"
      ],
      "metadata": {
        "id": "E0VQK1dnSZw1"
      }
    },
    {
      "cell_type": "markdown",
      "source": [
        "### **Prueba de NP-Hardness**\n",
        "\n",
        "#### **Teorema 2 (NP-Hardness de Clique**)\n",
        "El problema *Clique* es *NP-Hard*\n",
        "\n",
        "<br>\n",
        "\n",
        "Para probar que este problema pertenece al conjunto **NP-Hard** es necesario escoger algún otro problema $A$ y demostrar que $A$ se reduce a nuestro problema objetivo, al cual denominaremos $B$\n",
        "\n",
        "Siendo $A$ **NP-Hard** y asumiendo que la conjetura $P \\neq NP$ es cierta, $B$ también debe ser **NP-Hard** puesto a que cualquier otro caso se opondría a la conjetura.\n",
        "\n",
        "Para nuestro problema $A$ utilizaremos nuevamente el problema del `Conjunto independiente máximo` "
      ],
      "metadata": {
        "id": "Zh1JsYH9qhZ_"
      }
    },
    {
      "cell_type": "markdown",
      "source": [
        "#### **b.1) Selección del problema $A$**\n",
        "\n",
        "*Descripción del problema : `Conjunto Independiente Máximo`*\n",
        "\n",
        ">***Entrada***: Grafo no dirigido $G=(V,E)$ con $V$ vértices y $E$ arcos\n",
        ">\n",
        ">***Salida***: Conjunto independiente con la cantidad máxima de nodos\n",
        "\n",
        "\n",
        "<center>\n",
        "\n",
        "<img src='https://i.imgur.com/Ti4fcSy.png'>\n",
        "\n",
        "</center>\n",
        "\n",
        "En la imagen superior se encuentran cuatro ejemplos de conjuntos independientes dados sus grafos correspondientes. Se nota que para que un conjunto sea independiente, los nodos que lo conforman no deben ser adyacentes entre si\n",
        "\n",
        "---\n",
        "\n",
        "<br>\n",
        "\n",
        "Ya que queremos demostrar que nuestro problema $B$ *(`Clique máximo`)* es del tipo **NP-Hard**, debemos reducir efectivamente el problema $A$ a $B$"
      ],
      "metadata": {
        "id": "THsS9M7btPjn"
      }
    },
    {
      "cell_type": "markdown",
      "source": [
        "#### **b.2)Reducción**\n",
        "\n",
        "Igual que en el caso anterior, lo primero que hay que hacer es demostrar que el problema del conjunto independiente se puede reducir a *`clique`*.\n",
        "\n",
        "Como es habitual, el algoritmo que aprovecha esta reducción sigue el siguiente esquema : \n",
        "\n",
        "<img src='https://i.imgur.com/L6yMMud.png'>\n",
        "\n",
        "#### **Lema 1**\n",
        "\n",
        "El problema del `Conjunto independiente máximo` se reduce a `Clique máximo`\n",
        "\n",
        "#### **Prueba**\n",
        "\n",
        "Se puede observar que para que un conjunto sea independiente, cada vértice dentro de este no debe tener ningún arco hacia ningún otro.\n",
        "\n",
        "Por otro lado, todos los nodos en un *clique* están conectados entre si.\n",
        "\n",
        "Es fácil observar como estas dos estructuras se encuentran conectadas. Un conjunto independiente es un *clique* en el complemento del grafo de entrada $G$ y viceversa. Esto se debe a que si un conjunto de nodos se encuentran todos conectados entre sí, su complemento tendrá $0$ arcos.\n",
        "\n",
        "La siguiente imagen representa esta asociación a través de un ejemplo :\n",
        "\n",
        "<img src='https://i.imgur.com/BxQveXo.png'>\n",
        "\n",
        "Se nota que el conjunto independiente de tamaño $3$ en el grafo complementario $G'$ corresponde a un *clique* para el grafo original $G$.\n",
        "\n",
        "Con tal de encontrar el conjunto independiente máximo, solo basta con encontrar el clique máximo de un grafo $G$ y retornar su complemento.\n",
        "\n",
        "Por lo tanto, el problema del *conjunto independiente máximo* puede ser reducido al *clique máximo* de un grafo $G$\n",
        "\n"
      ],
      "metadata": {
        "id": "plOdsAguvRyJ"
      }
    },
    {
      "cell_type": "markdown",
      "source": [
        "#### **b.3)Algoritmo con reducción**\n",
        "\n",
        "> **Preprocesador** : Dado un grafo no dirigido $G=(V,E)$, se construye un grafo complementario $G' = (V',E')$ de forma que :\n",
        ">    * $V=V'$, puesto a que el complemento tiene los mismos vértices que el grafo original\n",
        ">    * $E'$ es el complemento de $E$. Esto significa que $G'$ tiene todos los arcos **no** presentes en $G$. Esta operación puede ser realziada en tiempo polinomial\n",
        ">\n",
        "><center>\n",
        ">\n",
        "> <img src='https://www.gatevidyalay.com/wp-content/uploads/2018/06/Complement-Of-Graph-Example.png'>\n",
        ">\n",
        "> *(Ejemplo del complemento de un grafo)*\n",
        ">\n",
        "></center>\n",
        ">\n",
        ">**Postprocesador** : Si la subrutina calcula un subconjunto $v_i = [v_1, v_2..., v_k]$, correspondiente a los vértices conformando un clique de tamaño de al menos $k$, entonces significa que se ha encontrado el subconjunto buscado. El postprocesador deberá retornar los vértices pertenecientes a este subconjunto junto a los vértices complemetarios a $G'$ que correspondan *(Se regresa al grafo original)*. En caso de que el subproceso no haya encontrado respuesta para $k$, el postprocesador tampoco.\n",
        ">\n",
        "> Como el *clique* del complemento corresponde a conjunto independiente del grafo de entrada, simpelmente basta con utilizar la subrutina para obtener la solución al problema, resultando en una aparente reducción exitosa.\n",
        ">\n",
        "> **Ciclo exterior** : El preprocesador, subrutina y postprocesador buscan un conjunto independiente para una cantidad de vértices fija $k$. Para calcular el conjunto independiente máximo de un grafo de entrada $G=(V,E)$ la reducción debe revisar todos los valores posibles de $k = n, n-1, ..., 2, 1$\n",
        ">\n",
        "> Para cada iteración de $k$, el proceso es el siguiente :\n",
        ">\n",
        ">1. Se llama al preprocesador para obtener el complemento de $G$ en tiempo polinomial\n",
        ">\n",
        ">2. Se llama a la subrutina para `clique`\n",
        ">\n",
        ">3. Se llama al postprocesador en la salida de la subrutina. Si el conjunto encontrado tiene menos de $k$ elementos, se itera para el siguiente valor de k$. En el caso contrario, se detiene y retorna el conjunto encontrado\n",
        "\n",
        "Similar al algoritmo con subrutina anterior, este algoritmo llama a la subrutina a lo más $n$ veces, siendo $n$ la cantidad de vértices en el grafo $G$, y realiza una cantidad polinomial de trabajo en los pre y postprocesos.\n",
        "\n",
        "\n",
        "#### **Correctitud**\n",
        "\n"
      ],
      "metadata": {
        "id": "34ElZapuvmoZ"
      }
    },
    {
      "cell_type": "markdown",
      "source": [
        "#### **b.4) Algoritmo propuesto que resuelve a $B$**\n",
        "\n",
        "Nos aprovechamos de la propiedad previamente descrita para poder calcular el clique máximo de un garfo.\n",
        "\n",
        "Como primer paso, se realiza el complemento $G'$ del grafo de entrada $G$, y se realizan sobre el las siguientes operaciones :\n",
        "\n",
        "Se puede utilizar un algoritmo que resuelva el problema a fuerza bruta. Esto se refiere a probar todas las combinaciones posibles de nodos válidos con tal de encontrar el conjunto que posea más elementos.\n",
        "\n",
        "Para determinar si un nodo se puede agregar a cierto conjunto, se debe revisar  si este no es adjacente a nigún otro y si no se encuentra en el conjunto que se está considerando\n",
        "\n",
        "El procedimiento es el siguiente :\n",
        "\n",
        ">* Se itera por los vértices del grafo, usando *backtracking* para chequear si el vértice puede ser incluído en el conjunto máximo o no. Por cada vértice revisado, podemos o no incluirlo en el conjunto máximo.\n",
        ">\n",
        ">* Se inicia considerando todos los vértices y arcos del grafo. Se selecciona uno a uno cada vértice, con el cual se realizan las siguientes operaciones : \n",
        ">    * Remover el vértice del grafo, excluyéndolo del conjunto máximo. Se llama recursivamente a la función para encontrar el máximo de este nuevo grafo.\n",
        ">    * Considerar el vértice en el conjunto máximo, removiendo todos sus nodos adjacentes del grafo y volviendo a llamar recursivamente el procedimiento de el grafo resultante\n",
        "\n",
        "> * Al finalizar basta con retornar cualquiera sea el caso de mayor tamaño\n",
        "\n",
        "Para volver al problema del *clique*, basta con retornar el complemento del conjunto independiente máximo calculado.\n",
        "\n",
        "El tiempo de ejecución de este algoritmo es de $T(n) = O(2^n)\n",
        "$\n",
        "\n",
        "\n",
        "\n",
        "\n"
      ],
      "metadata": {
        "id": "z4_ks68CeSOL"
      }
    }
  ]
}