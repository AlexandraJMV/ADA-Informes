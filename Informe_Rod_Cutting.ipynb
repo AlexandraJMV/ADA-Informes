{
  "nbformat": 4,
  "nbformat_minor": 0,
  "metadata": {
    "colab": {
      "provenance": [],
      "collapsed_sections": [],
      "authorship_tag": "ABX9TyMxSNEuOkMLuvWPcrsT+gaB",
      "include_colab_link": true
    },
    "kernelspec": {
      "name": "python3",
      "display_name": "Python 3"
    },
    "language_info": {
      "name": "python"
    }
  },
  "cells": [
    {
      "cell_type": "markdown",
      "metadata": {
        "id": "view-in-github",
        "colab_type": "text"
      },
      "source": [
        "<a href=\"https://colab.research.google.com/github/AlexandraJMV/ADA-Informes/blob/main/Informe_Rod_Cutting.ipynb\" target=\"_parent\"><img src=\"https://colab.research.google.com/assets/colab-badge.svg\" alt=\"Open In Colab\"/></a>"
      ]
    },
    {
      "cell_type": "markdown",
      "source": [
        "# ***CuttingRod***"
      ],
      "metadata": {
        "id": "hSE26aCZd2dJ"
      }
    },
    {
      "cell_type": "markdown",
      "source": [
        "## 1. **Problema:** *Corte de varillas*\n",
        "\n",
        "El problema consiste en encontrar la forma en la cual, dada una varilla de largo $n$ y una tabla de precios $p_i$ para $i =1,2...$ representando un costo asociado, encontrar la ganancia máxima posible al vender las varillas. <br><br>\n",
        "\n",
        "---\n",
        "\n",
        "<br>***Entrada***: Largo de varilla $n$, vector de precios por cada medida $i=1..n$\n",
        "\n",
        "***Salida***:  Retorno máximo $r_n$ que se puede obtener cortando la varilla y vendiendo las partes.<br><br>\n",
        "\n",
        "---\n",
        "<br>\n",
        "\n",
        "Distintas particiones de las varillas presentarán distintos valores asociados.\n",
        "\n",
        "<center>\n",
        "<img src = \"https://www.codesdope.com/staticroot/images/algorithm/rod2.png\">\n",
        "</center>\n",
        "\n",
        "\n"
      ],
      "metadata": {
        "id": "mplP3JJFdmZ3"
      }
    },
    {
      "cell_type": "markdown",
      "source": [
        "## 2. ***CuttingRod***\n"
      ],
      "metadata": {
        "id": "lyg8teSgeVfM"
      }
    },
    {
      "cell_type": "markdown",
      "source": [
        "### 2.1 *Código*\n"
      ],
      "metadata": {
        "id": "DAc9nC_semKQ"
      }
    },
    {
      "cell_type": "markdown",
      "source": [
        "Implementación *número 1*, resolución recursiva para el problema.\n",
        "\n",
        "*Fuerza bruta*"
      ],
      "metadata": {
        "id": "A-RPw4a2fN2x"
      }
    },
    {
      "cell_type": "code",
      "source": [
        "def RecursiveCutRod(p,n, verbose = False, j = 1, cad = \"\"):\n",
        "\n",
        "    if verbose == True and j == 1:\n",
        "        print(\"Arreglo de precios por valor largo i:\")\n",
        "        print(p)\n",
        "        print()\n",
        "        print(f\"Largo de la varilla = {n}\\n\")\n",
        "\n",
        "    if verbose == True and j > 1:\n",
        "        print(f\"Llamada recursiva numero {j}\")\n",
        "        print(f\"Tamaño de n = {n}\")\n",
        "        print(f\"Rama : {cad} {n} \")\n",
        "\n",
        "        print()\n",
        "\n",
        "\n",
        "    if n == 0:\n",
        "        return 0, j, []\n",
        "        \n",
        "    q = 0\n",
        "    cf = []  # Cortes finales\n",
        "    for i in range(1,n+1):\n",
        "\n",
        "        # Llamada recursiva retorna maximo, iteraciones y cortes\n",
        "        r, j , c= RecursiveCutRod(p,n-i, j = j+1, verbose = verbose, cad = cad + f' {n}')\n",
        "\n",
        "        if q > p[i-1] + r:\n",
        "            q = q\n",
        "\n",
        "        else:\n",
        "            q = p[i-1] + r\n",
        "            cf = [i] + c\n",
        "\n",
        "    \n",
        "    if verbose == True and j == 1:\n",
        "        print(f\"Se ha calculado el maximo {q} con {j} llamadas recursivas\")\n",
        "        print(f\"Los cortes son : {cf}\")\n",
        "        \n",
        "\n",
        "    return q, j, cf\n",
        "\n",
        "p = [1,5,8,9,10,17,17,20,24,30]\n",
        "n = 4\n",
        "\n",
        "\n",
        "mx, ll , ct= RecursiveCutRod(p,n)\n",
        "print(f\"Se ha calculado el maximo {mx} con {ll} llamadas recursivas\")\n",
        "print(f\"Los cortes son : {ct}\")"
      ],
      "metadata": {
        "colab": {
          "base_uri": "https://localhost:8080/"
        },
        "id": "_rzm0ZDmuaWH",
        "outputId": "1dee543b-3a20-4396-adc2-18610d9c92a1"
      },
      "execution_count": 1,
      "outputs": [
        {
          "output_type": "stream",
          "name": "stdout",
          "text": [
            "Se ha calculado el maximo 10 con 16 llamadas recursivas\n",
            "Los cortes son : [2, 2]\n"
          ]
        }
      ]
    },
    {
      "cell_type": "markdown",
      "source": [
        "Implementación *número 2,* acercamiento *bottom up* con programación dinámica.\n",
        "\n"
      ],
      "metadata": {
        "id": "NEA7qr2QemGs"
      }
    },
    {
      "cell_type": "code",
      "source": [
        "def BottomUpCutRod(p, n, verbose = False):\n",
        "\n",
        "    if verbose == True:\n",
        "        a = [a for a in range(1,n+1)]\n",
        "        print(\"Tamaño de cortes vs. Precio\")\n",
        "        print(f\"    c : {a}\")\n",
        "        print(f\"    p : {p}\")\n",
        "        print(f\"\\nTamaño de la barilla: {n}\\n\")\n",
        "        print(f\"------------------------------------------------\\n\")\n",
        "\n",
        "    r = [0] * (n+1)                 # Creacion de arreglo de maximos\n",
        "    s = [[]] * (n+1)                # Creacion arreglo de cortes\n",
        "    neg = sum(p) *-1\n",
        "    sp = 0                          # Contador de sub problemas\n",
        "\n",
        "    for j in range (1,n+1):         # Iteracion para calcular cada maximo r_j\n",
        "        \n",
        "        sp = sp + 1\n",
        "\n",
        "        if verbose == True:\n",
        "            print(f\"Subproblema {j}\\n\")\n",
        "\n",
        "        q = neg                     # Establecer un valor negativo\n",
        "        c = [n]                     # Establecer el arreglo de cortes base\n",
        "\n",
        "        if j == 1:               \n",
        "            r[1] = p[0]\n",
        "            s[1] = [1]\n",
        "\n",
        "            if verbose == True :\n",
        "                print(f\"    Primer corte vale = {r[1]}\")\n",
        "                print(f\"    Los cortes son {s[1]}\\n\")  \n",
        "\n",
        "            continue\n",
        "        \n",
        "        for i in range(1, j+1):     # Loop para encontrar el maximo r- entre las posibilidades\n",
        "            \n",
        "\n",
        "            q2 = p[i-1] + r[j-i]\n",
        "\n",
        "            if verbose == True:\n",
        "                print(f\"    i = {i}\\n\")\n",
        "                print(f\"    Comparando valor anterior q = {q}\")\n",
        "                print(f\"    con la suma de las varillas p[{i}] + n[{j}-{i}] = {q2}\\n\")\n",
        "            \n",
        "            if q > q2 :\n",
        "\n",
        "                if verbose == True :\n",
        "                    print(f\"    No se ha modificado q\")\n",
        "                    print(f\"    Retorno maximo al momento = {q}\")\n",
        "                    print(f\"    Cortes realizados: {c}\\n\")\n",
        "\n",
        "                q = q\n",
        "                c = c\n",
        "            \n",
        "            else:\n",
        "\n",
        "                q = q2\n",
        "                \n",
        "                if i == 0 :\n",
        "                    c = []\n",
        "                else :\n",
        "                    c = [i]\n",
        "\n",
        "                for x in s[j-i]:\n",
        "                    c.append(x)\n",
        "\n",
        "                if verbose == True :\n",
        "                    print(f\"    Se ha modificado q\")\n",
        "                    print(f\"    Retorno maximo al momento = {q2}\")\n",
        "                    print(f\"    Cortes realizados: {c}\\n\")\n",
        "\n",
        "        if verbose == True: \n",
        "            print(f\"------------------------------------------------\\n\")\n",
        "\n",
        "        r[j] = q\n",
        "        s[j] = c\n",
        "    \n",
        "    if verbose == True:\n",
        "        print(f\"\\nCantidad de subproblemas calculados : {sp}\")\n",
        "        print(f\"Retorno maximo posible: {r[n]}\")\n",
        "        print(f\"Tamaño de las varas luego de los cortes: {s[n]}\")\n",
        "\n",
        "    return r[n], s[n], sp\n",
        "\n",
        "\n",
        "# Ejemplo\n",
        "\n",
        "p = [1,5,8,9,10,17,17,20,24,30]\n",
        "n = 9\n",
        "\n",
        "retorno, cortes , sp = BottomUpCutRod(p,n)\n",
        "\n",
        "print(\"Retorno maximo para \", n, \"elementos : \", retorno)\n",
        "print(\"Largo de los cortes : \", cortes)"
      ],
      "metadata": {
        "colab": {
          "base_uri": "https://localhost:8080/"
        },
        "id": "YQnVxdWYmlu5",
        "outputId": "98282ba4-b29e-4f45-f211-e74ddb483ef8"
      },
      "execution_count": 2,
      "outputs": [
        {
          "output_type": "stream",
          "name": "stdout",
          "text": [
            "Retorno maximo para  9 elementos :  25\n",
            "Largo de los cortes :  [6, 3]\n"
          ]
        }
      ]
    },
    {
      "cell_type": "markdown",
      "source": [
        "### 2.2 *Descripción del algoritmo*\n",
        "Dada la superposición de subproblemas, el paradigma *divide y vencerás* ya no resuelve el problema inicial de forma eficiente. Es necesario entonces definir una solución usando el paradigma ***programación dinámica***, donde se resuelven subproblemas de forma similar al paradigma anterior, pero se almacenan sus resultados para evitar el cálculo redundante.\n",
        "\n",
        "Se consideran los siguientes pasos para el desarollo de la solución óptima:<br><br>\n",
        "\n",
        "---\n",
        "\n",
        "<br><br>\n",
        "\n",
        "**Caracterización de la estructura para una solución óptima** \n",
        "\n",
        "Dada una varilla de largo $n$, se pueden visualizar dos situaciones: El retorno máximo $r_n$ está dado por  la varilla completa o por la sub-varilla $p_i$ y el retorno máximo del sobrante $r_{n-i}$.\n",
        "\n",
        "\n",
        "$r_n = max(p_n, p[i] + r_{n-i})$\n",
        "\n",
        "\n",
        "Se nota que para resolver el problema de tamaño $n$ *($r_n$)*, se resuelven problemas de menor tamaño pero del mismo tipo *($r_{n-i}$)*. La solución óptima incorpora soluciones óptimas de los sub-problemas que se resuelven independientemente, maximizando el valor obtenido para cada uno. Por lo tanto, el problema de cortar varillas presenta una sub-estructura óptima.<br><br>\n",
        "\n",
        "**Definición del valor óptimo de manera recursiva**\n",
        "\n",
        "Luego, se define el valor óptimo de manera recursiva.\n",
        "\n",
        "\n",
        "$r_n=\\max\\limits_{1 \\le i\\le n}(p_i+r_{n-i})$\n",
        "\n",
        "En esta versión recursiva, se realiza una descomposicion del problema en función del índice $i$. Se considera un trozo inicial $p_i$ al cual se le debe sumar la solución óptima del sobrante $r_{n-i}$, que se calcula recursivamente.\n",
        "Como $1\\le i\\le n$, cuando $i=n$ se tendrá considerado el valor de la varilla completa, asumiendo que $r_0 = 0$ \n",
        "\n",
        "<center>\n",
        "<img src='https://pencilprogrammer.com/wp-content/uploads/2020/11/recursive-rod-cut-peice.png'><br><br>\n",
        "</center>\n",
        "\n",
        "El siguiente árbol de recursión representa de forma visual todas las llamadas realizadas por la versión recursiva de la solución del problema. Se observa claramente como se han tenido que calcular múltiples veces los mismos sub-problemas.\n",
        "\n",
        "<center>\n",
        "<div class=\"img-with-text\">\n",
        "    <img src=\"https://i.imgur.com/RS6T426.png\" />\n",
        "    <p><center>Fuente: Introduction to Algorithms</center></p>\n",
        "</div><br><br>\n",
        "</center>\n",
        "\n",
        "**Cálculo del valor de la solución óptima**\n",
        "\n",
        "Al analizar el tiempo de ejecución de la versión recursiva se nota que aumenta de forma exponencial cada vez que se aumenta $n$ en una unidad. \n",
        "\n",
        "Observando el solapamiento de sub-problemas, se puede diseñar una mejor versión del algoritmo al calcular cualquier subproblema **solo una vez**, guardando su solución. De esta forma se realiza un intercambio entre el tiempo de ejecución y la memoria utilizada por el algoritmo.\n",
        "\n",
        "Observando que para resolver el problema para $n$ hay que resolver aquellos más pequeños, la solución *bottom-up (abajo hacia arriba)* sería la siguiente:\n",
        "\n",
        "* Ordenar sub_problemas desde el más pequeño al mayor\n",
        "* Guardar resultados\n",
        "* Calcular problemas mayores con resultados anteriores\n",
        "\n",
        "<center>\n",
        "<div class=\"img-with-text\">\n",
        "    <img src=\"https://i.imgur.com/ZN2EBhV.png\" />\n",
        "    <p><center>Fuente: Introduction to Algorithms</center></p>\n",
        "</div><br><br>\n",
        "</center>\n",
        "\n",
        "La imagen representa la dependencia entre sub-problemas. Por ejemplo, se nota que el sub-problema $3$ utiliza todos sus predecesores.<br><br>\n",
        "\n",
        "\n",
        "**Construcción óptima a partir de la información calculada**\n",
        "\n",
        "Para finalizar, se realiza la solución óptima asumiendo que cada problema $j$ será menor que el sub-problema $j+1$.\n",
        "\n",
        "\n",
        "> * Se crea un arreglo $r[0...n]$ de $n+1$ elementos, que almacenará el resultado de los problemas calculados $r_1, r_2.. r_n$\n",
        ">\n",
        "> * Se asume que $r_0 = 0$, por lo que $r[0] = 0$. *(La ganancia al vender 0 es 0)*\n",
        ">\n",
        "> * Se resuelven los problemas de menor a mayor, es decir, desde $j = 0, 1, 2...n$, donde $n$ es el tamaño máximo del problema. \n",
        ">\n",
        "> * Se define $q$, que corresponde al retorno máximo temporal mientras no se consideren todas las combinaciones de $p[i]$ y $r[j-i]$. Se inicializa con un valor negativo o desconocido ya que aún no se han calculado posibles valores.\n",
        "> \n",
        "> * Para cada iteración de $j$, hay que iterar $i = 1, 2... j$  veces extra con tal de considerar todas las combinaciones de sub-problemas posibles. El retorno máximo se tiene que calcular iteradamente por: $q = max(q, p[i] + r_{j-i})$, donde:\n",
        ">     * $q$ es el máximo actual\n",
        ">     * $p[i]$ es el precio de una varilla de tamaño $i$\n",
        ">     * $r_{j-1}$ es el retorno máximo del sobrante, a través del arreglo de máximos previamente calculados\n",
        ">\n",
        "> * Una vez calculados todas las $j$ combinaciones posibles, se modifica la posición $j$ del arreglo de máximos $r$ asignándole el valor $q$\n",
        ">\n",
        "> * Se sigue iterando hasta que $j=n$, el retorno máximo será $r[n]$\n",
        "\n",
        "<br>\n",
        "\n",
        "\n"
      ],
      "metadata": {
        "id": "rATmdOxZrysy"
      }
    },
    {
      "cell_type": "markdown",
      "source": [
        "### 2.3 *Ejemplo*\n",
        "\n",
        "El siguiente ejemplo muestra el funcionamiento del algoritmo en su versión ***bottom-up***:<br><br>\n",
        "\n",
        "--- \n",
        "<br>\n",
        "Sea \n",
        "\n",
        "\n",
        "<center>\n",
        "<div class=\"img-with-text\">\n",
        "    <img src=\"https://pencilprogrammer.com/wp-content/uploads/2020/11/Rod-Cutting-Problem-1.png\" />\n",
        "</div><br><br>\n",
        "</center>\n",
        "\n",
        "el vector de precios asociado a este problema y el tamaño original $n$ a optimizar -> $4$.\n",
        "\n",
        "* Se define el arreglo con las soluciones: $r = [0,0,0,0,0]$\n",
        "\n",
        "* Se asigna $r[0] = 0$\n",
        "\n",
        "<br>\n",
        "\n",
        "---\n",
        "\n",
        "<br>\n",
        "\n",
        "Primer problema, **j = 1**\n",
        "\n",
        "$q = -∞$\n",
        "\n",
        "> $i = 1$ \n",
        ">\n",
        "> $q = max(q, p[1] + r[0])$\n",
        ">\n",
        "> ---> $q=1$\n",
        "\n",
        "Como $i=j$, fin de la iteración\n",
        "\n",
        "$r = [0,1,0,0,0]$\n",
        "\n",
        "<br>\n",
        "\n",
        "---\n",
        "\n",
        "<br>\n",
        "\n",
        "Segundo problema, **j = 2**\n",
        "\n",
        "$q = -∞$\n",
        "\n",
        "> $i = 1$ \n",
        ">\n",
        "> $q = max(q, p[1] + r[1])$\n",
        ">\n",
        "> ---> $q=2$\n",
        "\n",
        "> $i = 2$ \n",
        ">\n",
        "> $q = max(q, p[2] + r[0])$\n",
        ">\n",
        "> ---> $q=5$\n",
        "\n",
        "Como $i=j$, fin de la iteración\n",
        "\n",
        "$r = [0,1,5,0,0]$\n",
        "\n",
        "<br>\n",
        "\n",
        "---\n",
        "\n",
        "<br>\n",
        "\n",
        "Tercer problema, **j = 3**\n",
        "\n",
        "$q = -∞$\n",
        "\n",
        "> $i = 1$ \n",
        ">\n",
        "> $q = max(q, p[1] + r[2])$\n",
        ">\n",
        "> ---> $q=6$\n",
        "\n",
        "> $i = 2$ \n",
        ">\n",
        "> $q = max(q, p[2] + r[1])$\n",
        ">\n",
        "> ---> $q=6$\n",
        "\n",
        "> $i = 3$ \n",
        ">\n",
        "> $q = max(q, p[3] + r[0])$\n",
        ">\n",
        "> ---> $q=8$\n",
        "\n",
        "Como $i=j$, fin de la iteración\n",
        "\n",
        "$r = [0,1,5,8,0]$\n",
        "\n",
        "<br>\n",
        "\n",
        "---\n",
        "\n",
        "<br>\n",
        "\n",
        "Cuarto problema, **j = 4**\n",
        "\n",
        "$q = -∞$\n",
        "\n",
        "> $i = 1$ \n",
        ">\n",
        "> $q = max(q, p[1] + r[3])$\n",
        ">\n",
        "> ---> $q=9$\n",
        "\n",
        "> $i = 2$ \n",
        ">\n",
        "> $q = max(q, p[2] + r[2])$\n",
        ">\n",
        "> ---> $q=10$\n",
        "\n",
        "> $i = 3$ \n",
        ">\n",
        "> $q = max(q, p[3] + r[1])$\n",
        ">\n",
        "> ---> 9, no se actualiza $q$\n",
        "\n",
        "> $i = 4$ \n",
        ">\n",
        "> $q = max(q, p[4] + r[0])$\n",
        ">\n",
        "> ---> 9, no se actualiza $q$\n",
        "\n",
        "Como $i=j$, fin de la iteración\n",
        "\n",
        "$r = [0,1,5,8,10]$\n",
        "\n",
        "<br>\n",
        "\n",
        "---\n",
        "<br>\n",
        "\n",
        "$r[n] = 10$, el retorno máximo para una varilla de tamaño 4 es 10.\n",
        "\n",
        "<br> \n"
      ],
      "metadata": {
        "id": "WZ1m19_bAjeO"
      }
    },
    {
      "cell_type": "markdown",
      "source": [
        "### 2.4 *Ejecución paso a paso* (`verbose = True`)"
      ],
      "metadata": {
        "id": "v1Wx3xTzuRGf"
      }
    },
    {
      "cell_type": "code",
      "source": [
        "# Datos para ejemplo\n",
        "p = [1,5,8,9,10,17,17,20,24,30]\n",
        "n = 4"
      ],
      "metadata": {
        "id": "OnBt38127WIU"
      },
      "execution_count": null,
      "outputs": []
    },
    {
      "cell_type": "code",
      "source": [
        "# Ejecucion paso a paso para algoritmo recursivo\n",
        "# El concepto de rama se entiende mejor con el grafo de subproblemas asociado al\n",
        "# algoritmo recursivo\n",
        "RecursiveCutRod(p, n, verbose = True)"
      ],
      "metadata": {
        "colab": {
          "base_uri": "https://localhost:8080/"
        },
        "id": "bwFE6U1MEpyB",
        "outputId": "32a3e849-4155-43d5-deab-8ee95c1507a9"
      },
      "execution_count": null,
      "outputs": [
        {
          "output_type": "stream",
          "name": "stdout",
          "text": [
            "Arreglo de precios por valor largo i:\n",
            "[1, 5, 8, 9, 10, 17, 17, 20, 24, 30]\n",
            "\n",
            "Largo de la varilla = 4\n",
            "\n",
            "Llamada recursiva numero 2\n",
            "Tamaño de n = 3\n",
            "Rama :  4 3 \n",
            "\n",
            "Llamada recursiva numero 3\n",
            "Tamaño de n = 2\n",
            "Rama :  4 3 2 \n",
            "\n",
            "Llamada recursiva numero 4\n",
            "Tamaño de n = 1\n",
            "Rama :  4 3 2 1 \n",
            "\n",
            "Llamada recursiva numero 5\n",
            "Tamaño de n = 0\n",
            "Rama :  4 3 2 1 0 \n",
            "\n",
            "Llamada recursiva numero 6\n",
            "Tamaño de n = 0\n",
            "Rama :  4 3 2 0 \n",
            "\n",
            "Llamada recursiva numero 7\n",
            "Tamaño de n = 1\n",
            "Rama :  4 3 1 \n",
            "\n",
            "Llamada recursiva numero 8\n",
            "Tamaño de n = 0\n",
            "Rama :  4 3 1 0 \n",
            "\n",
            "Llamada recursiva numero 9\n",
            "Tamaño de n = 0\n",
            "Rama :  4 3 0 \n",
            "\n",
            "Llamada recursiva numero 10\n",
            "Tamaño de n = 2\n",
            "Rama :  4 2 \n",
            "\n",
            "Llamada recursiva numero 11\n",
            "Tamaño de n = 1\n",
            "Rama :  4 2 1 \n",
            "\n",
            "Llamada recursiva numero 12\n",
            "Tamaño de n = 0\n",
            "Rama :  4 2 1 0 \n",
            "\n",
            "Llamada recursiva numero 13\n",
            "Tamaño de n = 0\n",
            "Rama :  4 2 0 \n",
            "\n",
            "Llamada recursiva numero 14\n",
            "Tamaño de n = 1\n",
            "Rama :  4 1 \n",
            "\n",
            "Llamada recursiva numero 15\n",
            "Tamaño de n = 0\n",
            "Rama :  4 1 0 \n",
            "\n",
            "Llamada recursiva numero 16\n",
            "Tamaño de n = 0\n",
            "Rama :  4 0 \n",
            "\n"
          ]
        },
        {
          "output_type": "execute_result",
          "data": {
            "text/plain": [
              "(10, 16, [2, 2])"
            ]
          },
          "metadata": {},
          "execution_count": 30
        }
      ]
    },
    {
      "cell_type": "code",
      "source": [
        "# Ejecucion paso a paso para algoritmo bottom up\n",
        "BottomUpCutRod(p, n, verbose = True)\n",
        "print()"
      ],
      "metadata": {
        "colab": {
          "base_uri": "https://localhost:8080/"
        },
        "id": "5AyUzEX37Pfg",
        "outputId": "9aa60332-eb5a-4195-c93f-2412e3eecdcb"
      },
      "execution_count": null,
      "outputs": [
        {
          "output_type": "stream",
          "name": "stdout",
          "text": [
            "Tamaño de cortes vs. Precio\n",
            "    c : [1, 2, 3, 4, 5]\n",
            "    p : [1, 5, 8, 9, 10, 17, 17, 20, 24, 30]\n",
            "\n",
            "Tamaño de la barilla: 5\n",
            "\n",
            "------------------------------------------------\n",
            "\n",
            "Subproblema 1\n",
            "\n",
            "    Primer corte vale = 1\n",
            "    Los cortes son [1]\n",
            "\n",
            "Subproblema 2\n",
            "\n",
            "    i = 1\n",
            "\n",
            "    Comparando valor anterior q = -141\n",
            "    con la suma de las varillas p[1] + n[2-1] = 2\n",
            "\n",
            "    Se ha modificado q\n",
            "    Retorno maximo al momento = 2\n",
            "    Cortes realizados: [1, 1]\n",
            "\n",
            "    i = 2\n",
            "\n",
            "    Comparando valor anterior q = 2\n",
            "    con la suma de las varillas p[2] + n[2-2] = 5\n",
            "\n",
            "    Se ha modificado q\n",
            "    Retorno maximo al momento = 5\n",
            "    Cortes realizados: [2]\n",
            "\n",
            "------------------------------------------------\n",
            "\n",
            "Subproblema 3\n",
            "\n",
            "    i = 1\n",
            "\n",
            "    Comparando valor anterior q = -141\n",
            "    con la suma de las varillas p[1] + n[3-1] = 6\n",
            "\n",
            "    Se ha modificado q\n",
            "    Retorno maximo al momento = 6\n",
            "    Cortes realizados: [1, 2]\n",
            "\n",
            "    i = 2\n",
            "\n",
            "    Comparando valor anterior q = 6\n",
            "    con la suma de las varillas p[2] + n[3-2] = 6\n",
            "\n",
            "    Se ha modificado q\n",
            "    Retorno maximo al momento = 6\n",
            "    Cortes realizados: [2, 1]\n",
            "\n",
            "    i = 3\n",
            "\n",
            "    Comparando valor anterior q = 6\n",
            "    con la suma de las varillas p[3] + n[3-3] = 8\n",
            "\n",
            "    Se ha modificado q\n",
            "    Retorno maximo al momento = 8\n",
            "    Cortes realizados: [3]\n",
            "\n",
            "------------------------------------------------\n",
            "\n",
            "Subproblema 4\n",
            "\n",
            "    i = 1\n",
            "\n",
            "    Comparando valor anterior q = -141\n",
            "    con la suma de las varillas p[1] + n[4-1] = 9\n",
            "\n",
            "    Se ha modificado q\n",
            "    Retorno maximo al momento = 9\n",
            "    Cortes realizados: [1, 3]\n",
            "\n",
            "    i = 2\n",
            "\n",
            "    Comparando valor anterior q = 9\n",
            "    con la suma de las varillas p[2] + n[4-2] = 10\n",
            "\n",
            "    Se ha modificado q\n",
            "    Retorno maximo al momento = 10\n",
            "    Cortes realizados: [2, 2]\n",
            "\n",
            "    i = 3\n",
            "\n",
            "    Comparando valor anterior q = 10\n",
            "    con la suma de las varillas p[3] + n[4-3] = 9\n",
            "\n",
            "    No se ha modificado q\n",
            "    Retorno maximo al momento = 10\n",
            "    Cortes realizados: [2, 2]\n",
            "\n",
            "    i = 4\n",
            "\n",
            "    Comparando valor anterior q = 10\n",
            "    con la suma de las varillas p[4] + n[4-4] = 9\n",
            "\n",
            "    No se ha modificado q\n",
            "    Retorno maximo al momento = 10\n",
            "    Cortes realizados: [2, 2]\n",
            "\n",
            "------------------------------------------------\n",
            "\n",
            "Subproblema 5\n",
            "\n",
            "    i = 1\n",
            "\n",
            "    Comparando valor anterior q = -141\n",
            "    con la suma de las varillas p[1] + n[5-1] = 11\n",
            "\n",
            "    Se ha modificado q\n",
            "    Retorno maximo al momento = 11\n",
            "    Cortes realizados: [1, 2, 2]\n",
            "\n",
            "    i = 2\n",
            "\n",
            "    Comparando valor anterior q = 11\n",
            "    con la suma de las varillas p[2] + n[5-2] = 13\n",
            "\n",
            "    Se ha modificado q\n",
            "    Retorno maximo al momento = 13\n",
            "    Cortes realizados: [2, 3]\n",
            "\n",
            "    i = 3\n",
            "\n",
            "    Comparando valor anterior q = 13\n",
            "    con la suma de las varillas p[3] + n[5-3] = 13\n",
            "\n",
            "    Se ha modificado q\n",
            "    Retorno maximo al momento = 13\n",
            "    Cortes realizados: [3, 2]\n",
            "\n",
            "    i = 4\n",
            "\n",
            "    Comparando valor anterior q = 13\n",
            "    con la suma de las varillas p[4] + n[5-4] = 10\n",
            "\n",
            "    No se ha modificado q\n",
            "    Retorno maximo al momento = 13\n",
            "    Cortes realizados: [3, 2]\n",
            "\n",
            "    i = 5\n",
            "\n",
            "    Comparando valor anterior q = 13\n",
            "    con la suma de las varillas p[5] + n[5-5] = 10\n",
            "\n",
            "    No se ha modificado q\n",
            "    Retorno maximo al momento = 13\n",
            "    Cortes realizados: [3, 2]\n",
            "\n",
            "------------------------------------------------\n",
            "\n",
            "\n",
            "Cantidad de subproblemas calculados : 5\n",
            "Retorno maximo posible: 13\n",
            "Tamaño de las varas luego de los cortes: [3, 2]\n",
            "\n"
          ]
        }
      ]
    },
    {
      "cell_type": "markdown",
      "source": [
        "## 3. ***Propiedades del algoritmo***\n",
        "\n"
      ],
      "metadata": {
        "id": "IcwiWQB6VGKX"
      }
    },
    {
      "cell_type": "markdown",
      "source": [
        "### 3.1 *Tiempo de ejecución*\n",
        "\n",
        "**Cantidad de sub-problemas a resolver:**\n",
        "\n",
        "Para un problema de tamaño $n$\n",
        "\n",
        "* Algoritmo recursivo: Este algoritmo recursivo resuelve $2^{n}$ sub-problemas.\n",
        "\n",
        "* Algoritmo bottom-up: El algoritmo bottom-up resolverá $n - 1$ sub problemas, sin contar aquel en el cual $j=n$ como uno de ellos.\n",
        "\n",
        "**Tiempo de ejecución por sub-problema:**\n",
        "\n",
        "* Algoritmo bottom-up: Por cada sub-problema de tamaño $j$, el tiempo de ejecución será $O(j)$ pues solo se debe iterar $j$ veces para poder encontrar la solución que maximice la recompensa *(Búsqueda consiste en comparación de elementos a los cuales se accede de forma directa)*\n",
        "\n",
        "\n",
        "**Tiempo de ejecución del algortimo:**\n",
        "* Algoritmo recursivo: Sea $T(n)$ el número de llamadas realizadas a `RecursiveCutRod` el tiempo de ejecución estará denotado por:\n",
        "    $T(n) = 1 + \\sum_{j = 0}^{n-1}T(j) = 2^n$\n",
        "    Siendo 1 la primera llamada y la sumatoria todas las llamadas realizadas a la función.\n",
        "\n",
        "    Por inducción..\n",
        "    $T(n) = 1 + \\sum_{j=0}^{n-1}T(j)$\n",
        "\n",
        "    $2^n = 1 + \\sum_{j=0}^{n-1}2^j$\n",
        "\n",
        "    $2^n = 1 + \\frac{2^{n+1-1}-1}{2-1}$\n",
        "\n",
        "    $2^n = 2^n$\n",
        "\n",
        "* Algoritmo bottom-up:\n",
        "    1. Declaración de $r$ y asignación de $r[0]$ => $2O(1)$\n",
        "    2. Dentro del loop que calcula los subproblemas se asignan $n$ veces valores para $q$ y $r[j]$ => $2n$\n",
        "    3. Dentro de este mismo loop observamos que por cada valor de $j$ en $1\\le j \\le n$ , se harán $j$ operaciones de costo constante => $\\sum_{j=1}^{n}j = \\frac{n(n+1)}{2}$\n",
        "\n",
        "    Por lo tanto terminamos con un tiempo de ejecución $T(n) = 2O(n) + 2n + \\frac{1}{2}\\cdot (n^2 + n) = O(n^2)$\n",
        "\n",
        "\n",
        "\n"
      ],
      "metadata": {
        "id": "SoDYdYhyVRYH"
      }
    },
    {
      "cell_type": "markdown",
      "source": [
        "### 3.2 *Correctitud del algoritmo*\n",
        "\n",
        "#### ***Teorema***\n",
        "\n",
        "El algoritmo ***Bottom-UpCutRod*** recibe un arreglo $p$ indicando el precio $p_i$ de una varilla de largo $i$, y un valor $n$ siendo el tamaño de la varilla para la cual se desea maximizar la ganancia.\n",
        "\n",
        "El algoritmo retorna la ganancia máxima que se puede recibir al vender la varilla en trozos.\n",
        "\n",
        "#### ***Prueba del teorema***\n",
        "\n",
        "Para demostrar que el algoritmo Bottom-Up es correcto se utilizará inducción.\n",
        "\n",
        "> ***Hipótesis***\n",
        ">\n",
        ">BottomUpCutRod recibe un arreglo $p$ de precios y un valor $n$ correspondiendo al tamaño optimizar, retornando la ganancia máxima.\n",
        "\n",
        "***Caso base***\n",
        "\n",
        "Para el caso base se selecciona $n=1$. Cuando la varilla es del tamaño mínimo solo hay un valor, lo que corresponde trivialmente con el retorno máximo $p_1$.\n",
        "\n",
        "***Paso inductivo***\n",
        "\n",
        "Para un sub-problema $j$ en $1\\le j < n$ se asume que los subproblemas menores que $j$ fueron resueltos de forma correcta. Por lo tanto, el arreglo $r$ contiene los retornos máximos desde el índice $j-1$ hacia atrás.\n",
        "\n",
        "Para el subproblema $j$ se recorre desde $i=1$ a $j$, buscando el retorno máximo a través de comparaciones de valores.\n",
        "\n",
        "Por cada iteración $i$ se actualizará el máximo local $q$, pudiendo tomar dos valores:\n",
        "\n",
        "* $q=q$ si $q>p[i]+r[j-i]$ \n",
        "* $q=p[i]+r[j-i]$ en caso contrario\n",
        "\n",
        "$i$ recorrerá todas las combinaciones posibles de $p[i]+r[j-i]$, siendo $p[i]$ el precio de una varilla $i$ y $r[j-i]$ siendo el retorno másimo del subproblema $j-i$, que ya fue calculado de forma correcta.\n",
        "\n",
        "Al finalizar la iteración, se tendrá habrá calculado el retorno máximo para $r[j]$ de forma correcta.\n",
        "\n",
        "Cuando $j=n$, se habrá calculado el retorno máximo del tamaño solicitado, por lo que el algoritmo es ***correcto***.\n",
        "\n",
        "\n"
      ],
      "metadata": {
        "id": "Q_LPA1BQVVmj"
      }
    },
    {
      "cell_type": "markdown",
      "source": [
        "## 4. ***Experimento y analisis***\n",
        "\n",
        "Para cada cálculo realizado para los experimentos, el valor a maximizar, asociado a un arreglo $p$ de $n$ precios, será $n$."
      ],
      "metadata": {
        "id": "NdSPZ7vrVjGH"
      }
    },
    {
      "cell_type": "markdown",
      "source": [
        "### 4.1 *Tiempo de ejecución*'"
      ],
      "metadata": {
        "id": "1DxbCjiT6oRp"
      }
    },
    {
      "cell_type": "code",
      "source": [
        "import random\n",
        "\n",
        "def cutrod_instance_generator(N):\n",
        "  A = []\n",
        "  prev = 0\n",
        "  for i in range(N):\n",
        "    r=random.randint(0,10)\n",
        "    A.append(prev+r)\n",
        "    prev+=r\n",
        "  return A"
      ],
      "metadata": {
        "id": "wwhmwKqy5ozm"
      },
      "execution_count": 5,
      "outputs": []
    },
    {
      "cell_type": "code",
      "source": [
        "import matplotlib.pyplot as plt\n",
        "import seaborn as sns\n",
        "import datetime\n",
        "from timeit import repeat\n",
        "\n",
        "%matplotlib inline\n",
        "sns.set(context='notebook', style='darkgrid', palette='dark')\n",
        "sns.set(rc={'figure.figsize':(11.7,8.27)})\n",
        "\n",
        "# Tiempo\n",
        "\n",
        "x=[]; x2=[]\n",
        "y=[]; y2=[]\n",
        "\n",
        "for n in range(5,15):\n",
        "\n",
        "  A = cutrod_instance_generator(n)\n",
        "  t = repeat(setup=\"from __main__ import RecursiveCutRod\", stmt=f\"RecursiveCutRod({A},{n})\", repeat=1, number=10)\n",
        "\n",
        "  x.append(n)\n",
        "  y.append(t)\n",
        "\n",
        "for n in range(5,15):\n",
        "    \n",
        "  A = cutrod_instance_generator(n)\n",
        "  t = repeat(setup=\"from __main__ import BottomUpCutRod\", stmt=f\"BottomUpCutRod({A},{n})\", repeat=1, number=10)\n",
        "\n",
        "  x2.append(n)\n",
        "  y2.append(t)\n",
        "  \n",
        "plt.plot(x,y)\n",
        "plt.plot(x2,y2)\n",
        "plt.legend([\"Recursive cutRod\", \"Bottom Up CutRod\"])\n",
        "plt.title(\"Tiempo de ejecucion\")\n",
        "\n",
        "plt.xlabel('n')\n",
        "plt.ylabel('time in ms')\n",
        "plt.show()"
      ],
      "metadata": {
        "colab": {
          "base_uri": "https://localhost:8080/",
          "height": 533
        },
        "id": "kcFD7IZt5gAv",
        "outputId": "34eca452-5b5e-4fc0-ddfa-6a050b86379b"
      },
      "execution_count": 34,
      "outputs": [
        {
          "output_type": "display_data",
          "data": {
            "text/plain": [
              "<Figure size 842.4x595.44 with 1 Axes>"
            ],
            "image/png": "[encoded data removed]"
          },
          "metadata": {}
        }
      ]
    },
    {
      "cell_type": "code",
      "source": [
        "# Tiempo\n",
        "\n",
        "x=[]\n",
        "y=[]\n",
        "\n",
        "for n in range(5,200):\n",
        "\n",
        "  A = cutrod_instance_generator(n)\n",
        "  t = repeat(setup=\"from __main__ import BottomUpCutRod\", stmt=f\"BottomUpCutRod({A},{n})\", repeat=1, number=10)\n",
        "\n",
        "  x.append(n)\n",
        "  y.append(t)\n",
        "  \n",
        "plt.plot(x,y)\n",
        "plt.legend([\"Bottom Up CutRod\"])\n",
        "plt.title(\"Tiempo de ejecucion\")\n",
        "\n",
        "plt.xlabel('n')\n",
        "plt.ylabel('time in ms')\n",
        "plt.show()"
      ],
      "metadata": {
        "colab": {
          "base_uri": "https://localhost:8080/",
          "height": 533
        },
        "id": "d12Lgnbo7DcH",
        "outputId": "5d350f42-c5b2-40e4-f3a1-3f81ef1ecd3b"
      },
      "execution_count": 20,
      "outputs": [
        {
          "output_type": "display_data",
          "data": {
            "text/plain": [
              "<Figure size 842.4x595.44 with 1 Axes>"
            ],
            "image/png": "[encoded data removed]"
          },
          "metadata": {}
        }
      ]
    },
    {
      "cell_type": "markdown",
      "source": [
        "Al comparar ambos tiempos de ejecución, el alza exponencial del algoritmo recursivo opaca por completo el tiempo de ejecución cuadrático del otro, el cuál si se observa en el segundo gráfico.\n",
        "\n",
        "Esto tiene sentido considerando que la versión recursiva resuelve una considerable mayor cantidad de subproblemas que el acercamiento Bottom-up, que resuelve solo uno por cada valor menor a $n$.\n"
      ],
      "metadata": {
        "id": "EF4U3-JJajHx"
      }
    },
    {
      "cell_type": "markdown",
      "source": [
        "### 4.2 *Cantidad de sub-problemas*"
      ],
      "metadata": {
        "id": "UUtjcgX9PK3B"
      }
    },
    {
      "cell_type": "code",
      "source": [
        "# Cantidad de sub-problemas resueltos\n",
        "\n",
        "x=[]\n",
        "y=[n for n in range(5,200)]\n",
        "\n",
        "for n in range(5,200):\n",
        "\n",
        "  A = cutrod_instance_generator(n)\n",
        "  a, b, c = BottomUpCutRod(A,n)\n",
        "\n",
        "  x.append(c)\n",
        "  \n",
        "plt.plot(x,y)\n",
        "plt.legend([\"Bottom Up CutRod\"])\n",
        "plt.title(\"Subproblemas\")\n",
        "\n",
        "plt.xlabel('n')\n",
        "plt.ylabel('cantidad')\n",
        "plt.show()"
      ],
      "metadata": {
        "colab": {
          "base_uri": "https://localhost:8080/",
          "height": 533
        },
        "id": "MVpHCHD8M91J",
        "outputId": "dbc15402-c188-4ee6-fb6e-63778c7eb1af"
      },
      "execution_count": 23,
      "outputs": [
        {
          "output_type": "display_data",
          "data": {
            "text/plain": [
              "<Figure size 842.4x595.44 with 1 Axes>"
            ],
            "image/png": "[encoded data removed]"
          },
          "metadata": {}
        }
      ]
    },
    {
      "cell_type": "code",
      "source": [
        "x=[n for n in range(5,10)]\n",
        "y=[]\n",
        "\n",
        "for n in range(5,10):\n",
        "\n",
        "  A = cutrod_instance_generator(n)\n",
        "  a, b, c = RecursiveCutRod(A,n)\n",
        "\n",
        "  y.append(b)\n",
        "\n",
        "plt.plot(x,y)\n",
        "plt.legend([\"Recursive CutRod\"])\n",
        "plt.title(\"Llamadas recursivas\")\n",
        "\n",
        "plt.xlabel('n')\n",
        "plt.ylabel('cantidad')\n",
        "plt.show()"
      ],
      "metadata": {
        "colab": {
          "base_uri": "https://localhost:8080/",
          "height": 533
        },
        "id": "5gzu04J-X95a",
        "outputId": "b3e67f63-88fb-472d-b23a-c9db4f7ebf69"
      },
      "execution_count": 32,
      "outputs": [
        {
          "output_type": "display_data",
          "data": {
            "text/plain": [
              "<Figure size 842.4x595.44 with 1 Axes>"
            ],
            "image/png": "[encoded data removed]"
          },
          "metadata": {}
        }
      ]
    },
    {
      "cell_type": "markdown",
      "source": [
        "Se observa como el algoritmo recursivo calcula una cantidad exponencial de subproblemas, sobrepasando los 300 cuando $n=8$ dado a que se resuelven todas las combinaciones posibles de cortes en todo subpoblema (iteracion), sin importar si ha sido resuelto antes.\n",
        "\n",
        "Mientras, la cantidad de subproblemas en la versión bottom up es lineal puesto a que cada subproblema se resuelve una sola vez para un total de $n-1$ subproblemas."
      ],
      "metadata": {
        "id": "qZ56vIT0ZSsR"
      }
    }
  ]
}